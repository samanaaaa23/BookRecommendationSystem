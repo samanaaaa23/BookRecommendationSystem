{
 "cells": [
  {
   "cell_type": "code",
   "execution_count": 1,
   "metadata": {
    "id": "SXLEGGSajx2f"
   },
   "outputs": [],
   "source": [
    "#Importing all the necessary libraries\n",
    "import pandas as pd # data processing, CSV file I/O (e.g. pd.read_csv)\n",
    "import numpy as np\n",
    "\n",
    "import matplotlib.pyplot as plt\n",
    "import seaborn as sns\n",
    "import os\n",
    "\n",
    "#For model building\n",
    "import scipy\n",
    "import math\n",
    "import sklearn\n",
    "from nltk.corpus import stopwords\n",
    "from sklearn.metrics.pairwise import cosine_similarity # importing consine_similarity score from metrics module of seaborn lib.\n",
    "from scipy.sparse import csr_matrix\n",
    "from scipy.sparse.linalg import svds\n",
    "from sklearn.feature_extraction.text import TfidfVectorizer\n",
    "\n",
    "from sklearn.neighbors import NearestNeighbors\n",
    "\n",
    "\n",
    "# This is to supress the warning messages\n",
    "import warnings\n",
    "warnings.filterwarnings('ignore') # for ignoring the warnings"
   ]
  },
  {
   "cell_type": "code",
   "execution_count": 2,
   "metadata": {
    "colab": {
     "base_uri": "https://localhost:8080/"
    },
    "id": "OxRVxwlq6jSJ",
    "outputId": "354b785b-2864-4040-fe84-cd7b1202a386"
   },
   "outputs": [
    {
     "ename": "ModuleNotFoundError",
     "evalue": "No module named 'google'",
     "output_type": "error",
     "traceback": [
      "\u001b[1;31m---------------------------------------------------------------------------\u001b[0m",
      "\u001b[1;31mModuleNotFoundError\u001b[0m                       Traceback (most recent call last)",
      "Cell \u001b[1;32mIn[2], line 1\u001b[0m\n\u001b[1;32m----> 1\u001b[0m \u001b[38;5;28;01mfrom\u001b[39;00m \u001b[38;5;21;01mgoogle\u001b[39;00m\u001b[38;5;21;01m.\u001b[39;00m\u001b[38;5;21;01mcolab\u001b[39;00m \u001b[38;5;28;01mimport\u001b[39;00m drive\n\u001b[0;32m      2\u001b[0m drive\u001b[38;5;241m.\u001b[39mmount(\u001b[38;5;124m'\u001b[39m\u001b[38;5;124m/content/drive\u001b[39m\u001b[38;5;124m'\u001b[39m)\n",
      "\u001b[1;31mModuleNotFoundError\u001b[0m: No module named 'google'"
     ]
    }
   ],
   "source": [
    "from google.colab import drive\n",
    "drive.mount('/content/drive')"
   ]
  },
  {
   "cell_type": "code",
   "execution_count": null,
   "metadata": {
    "id": "-UwkV2P_j0JJ"
   },
   "outputs": [],
   "source": [
    "Books = pd.read_csv('/content/drive/MyDrive/Colab Notebooks/BookRecommendor/Books.csv' , sep=\";\", on_bad_lines='skip', encoding='latin-1')"
   ]
  },
  {
   "cell_type": "code",
   "execution_count": null,
   "metadata": {
    "colab": {
     "base_uri": "https://localhost:8080/",
     "height": 434
    },
    "id": "yNoo6hlSkSCi",
    "outputId": "11bfa591-d7cf-4f54-f00a-6377f8af4363"
   },
   "outputs": [],
   "source": [
    "Books.head()"
   ]
  },
  {
   "cell_type": "code",
   "execution_count": null,
   "metadata": {
    "colab": {
     "base_uri": "https://localhost:8080/"
    },
    "id": "FulKq0q3kTwf",
    "outputId": "3b714c69-2111-433c-f252-9bbadc518b45"
   },
   "outputs": [],
   "source": [
    "Books.shape"
   ]
  },
  {
   "cell_type": "code",
   "execution_count": null,
   "metadata": {
    "colab": {
     "base_uri": "https://localhost:8080/"
    },
    "id": "fFo7QRYAkVWV",
    "outputId": "d14e6feb-bbe3-4433-b631-7b2bd17bee02"
   },
   "outputs": [],
   "source": [
    "Books.columns"
   ]
  },
  {
   "cell_type": "code",
   "execution_count": null,
   "metadata": {
    "id": "oTeaqVe3kWOs"
   },
   "outputs": [],
   "source": [
    "Books= Books[['ISBN', 'Book-Title', 'Book-Author', 'Year-Of-Publication', 'Publisher']]"
   ]
  },
  {
   "cell_type": "code",
   "execution_count": null,
   "metadata": {
    "colab": {
     "base_uri": "https://localhost:8080/"
    },
    "id": "nDIzIVG0kYC6",
    "outputId": "8a530223-df8d-4b83-fc02-4e46c760b9da"
   },
   "outputs": [],
   "source": [
    "Books.shape"
   ]
  },
  {
   "cell_type": "code",
   "execution_count": null,
   "metadata": {
    "id": "5Fha-6TFkaSA"
   },
   "outputs": [],
   "source": [
    "Ratings = pd.read_csv('/content/drive/MyDrive/Colab Notebooks/BookRecommendor/Ratings.csv' , sep=\";\", on_bad_lines='skip', encoding='latin-1')"
   ]
  },
  {
   "cell_type": "code",
   "execution_count": null,
   "metadata": {
    "colab": {
     "base_uri": "https://localhost:8080/",
     "height": 206
    },
    "id": "rL77_i-2keWi",
    "outputId": "123e6818-1739-42a2-b823-c9860146cb09"
   },
   "outputs": [],
   "source": [
    "Ratings.head()"
   ]
  },
  {
   "cell_type": "code",
   "execution_count": null,
   "metadata": {
    "colab": {
     "base_uri": "https://localhost:8080/"
    },
    "id": "fbobdkyokfTD",
    "outputId": "c6342370-bbef-43ec-c3fb-2b4986ea5327"
   },
   "outputs": [],
   "source": [
    "Ratings.shape"
   ]
  },
  {
   "cell_type": "code",
   "execution_count": null,
   "metadata": {
    "id": "dr3HMY3Tkgbp"
   },
   "outputs": [],
   "source": [
    "Users = pd.read_csv('/content/drive/MyDrive/Colab Notebooks/BookRecommendor/Users.csv' , sep=\";\", on_bad_lines='skip', encoding='latin-1')"
   ]
  },
  {
   "cell_type": "code",
   "execution_count": null,
   "metadata": {
    "colab": {
     "base_uri": "https://localhost:8080/",
     "height": 206
    },
    "id": "t3G5GV59kjJF",
    "outputId": "e2d9c2aa-d7a1-4307-9eb4-afa229c04190"
   },
   "outputs": [],
   "source": [
    "Users.head()"
   ]
  },
  {
   "cell_type": "code",
   "execution_count": null,
   "metadata": {
    "colab": {
     "base_uri": "https://localhost:8080/"
    },
    "id": "1pV1GY6-kkGG",
    "outputId": "08fc0139-54f5-4915-cb54-d8400dd1068c"
   },
   "outputs": [],
   "source": [
    "print(Books.shape)\n",
    "print(Ratings.shape)\n",
    "print(Users.shape)"
   ]
  },
  {
   "cell_type": "code",
   "execution_count": null,
   "metadata": {
    "id": "jqazTeJvklOr"
   },
   "outputs": [],
   "source": [
    "Books.rename(columns={\"Book-Title\":'Title',\n",
    "                      'Book-Author':'Author',\n",
    "                     \"Year-Of-Publication\":'Year',\n",
    "                     \"Publisher\":\"Publisher\"},inplace=True)"
   ]
  },
  {
   "cell_type": "code",
   "execution_count": null,
   "metadata": {
    "colab": {
     "base_uri": "https://localhost:8080/",
     "height": 206
    },
    "id": "MUVsQm2Ukm-S",
    "outputId": "c764628c-17fa-4ebf-8950-40d646ab611e"
   },
   "outputs": [],
   "source": [
    "Books.head()"
   ]
  },
  {
   "cell_type": "code",
   "execution_count": null,
   "metadata": {
    "id": "xzSxYlSvkpi_"
   },
   "outputs": [],
   "source": [
    "Users.rename(columns={\"User-ID\":'User_ID'}, inplace=True)"
   ]
  },
  {
   "cell_type": "code",
   "execution_count": null,
   "metadata": {
    "colab": {
     "base_uri": "https://localhost:8080/",
     "height": 206
    },
    "id": "Dh2fo1HFkqpm",
    "outputId": "9c676fe2-564c-4282-8269-2e3fa8991cf7"
   },
   "outputs": [],
   "source": [
    "Users.head()"
   ]
  },
  {
   "cell_type": "code",
   "execution_count": null,
   "metadata": {
    "id": "o_el4kBGkruW"
   },
   "outputs": [],
   "source": [
    "Ratings.rename(columns={\"User-ID\":'User_ID',\n",
    "                      'Book-Rating':'Rating'},inplace=True)"
   ]
  },
  {
   "cell_type": "code",
   "execution_count": null,
   "metadata": {
    "colab": {
     "base_uri": "https://localhost:8080/",
     "height": 206
    },
    "id": "nMdBUJwpkt_6",
    "outputId": "41f06f45-157c-4bd7-decf-ac8f1a3df27a"
   },
   "outputs": [],
   "source": [
    "Ratings.head()"
   ]
  },
  {
   "cell_type": "code",
   "execution_count": null,
   "metadata": {
    "colab": {
     "base_uri": "https://localhost:8080/"
    },
    "id": "sZfNamTIku8y",
    "outputId": "5dbe5249-9d7c-4390-afa9-b3b003919205"
   },
   "outputs": [],
   "source": [
    "print(Books.shape, Users.shape, Ratings.shape, sep='\\n')"
   ]
  },
  {
   "cell_type": "code",
   "execution_count": null,
   "metadata": {
    "colab": {
     "base_uri": "https://localhost:8080/",
     "height": 489
    },
    "id": "o4r4499GkxKP",
    "outputId": "72f4ecfb-4d84-4b90-837a-cd1014440745"
   },
   "outputs": [],
   "source": [
    "Ratings['User_ID'].value_counts()   #checking the count of ratings by the User_ID"
   ]
  },
  {
   "cell_type": "code",
   "execution_count": null,
   "metadata": {
    "colab": {
     "base_uri": "https://localhost:8080/"
    },
    "id": "DW9InDoHky3l",
    "outputId": "b4cd5d05-7413-49dc-d7e4-8ac1655952ac"
   },
   "outputs": [],
   "source": [
    "#checking number of unique User IDs\n",
    "Ratings['User_ID'].value_counts().shape\n",
    "Ratings['User_ID'].unique().shape"
   ]
  },
  {
   "cell_type": "code",
   "execution_count": null,
   "metadata": {
    "id": "mTsZjYAmk2LD"
   },
   "outputs": [],
   "source": [
    "##storing users who had at least rated more than 200 books\n",
    "x= Ratings['User_ID'].value_counts() > 200"
   ]
  },
  {
   "cell_type": "code",
   "execution_count": null,
   "metadata": {
    "colab": {
     "base_uri": "https://localhost:8080/"
    },
    "id": "tn8vZ0I0k5UI",
    "outputId": "942aea43-de03-4e7c-ed10-930d54a90a70"
   },
   "outputs": [],
   "source": [
    "x[x].shape"
   ]
  },
  {
   "cell_type": "code",
   "execution_count": null,
   "metadata": {
    "colab": {
     "base_uri": "https://localhost:8080/"
    },
    "id": "sXVhXqjxk7A-",
    "outputId": "a657ab5f-67ac-4a40-f7b8-f846cb506607"
   },
   "outputs": [],
   "source": [
    "##storing the  list of User IDs\n",
    "y= x[x].index\n",
    "y"
   ]
  },
  {
   "cell_type": "code",
   "execution_count": null,
   "metadata": {
    "id": "KUX-VwkRk-Oc"
   },
   "outputs": [],
   "source": [
    "Ratings = Ratings[Ratings['User_ID'].isin(y)]"
   ]
  },
  {
   "cell_type": "code",
   "execution_count": null,
   "metadata": {
    "colab": {
     "base_uri": "https://localhost:8080/",
     "height": 206
    },
    "id": "ZKrdJ7HglAmZ",
    "outputId": "312aa82b-748b-40f6-c182-535911113c65"
   },
   "outputs": [],
   "source": [
    "Ratings.head()"
   ]
  },
  {
   "cell_type": "code",
   "execution_count": null,
   "metadata": {
    "id": "2ATYLIpClC2v"
   },
   "outputs": [],
   "source": [
    "##merging the ratings dataframe with books\n",
    "# Ratings_with_Books = Ratings.merge(Books, on='ISBN', Users on='User_ID')\n",
    "# Merging the ratings dataframe with books\n",
    "Ratings_with_Books = Ratings.merge(Books, on='ISBN').merge(Users, on='User_ID')"
   ]
  },
  {
   "cell_type": "code",
   "execution_count": null,
   "metadata": {
    "colab": {
     "base_uri": "https://localhost:8080/",
     "height": 206
    },
    "id": "tWP1_quOlErN",
    "outputId": "c939cbae-ddca-4eaa-b774-2886c430a52b"
   },
   "outputs": [],
   "source": [
    "Ratings_with_Books.head()"
   ]
  },
  {
   "cell_type": "code",
   "execution_count": null,
   "metadata": {
    "colab": {
     "base_uri": "https://localhost:8080/"
    },
    "id": "M_bHsxlwlGTU",
    "outputId": "2eeddddc-acf5-42e3-9cf3-30d5388c3569"
   },
   "outputs": [],
   "source": [
    "Ratings_with_Books.shape"
   ]
  },
  {
   "cell_type": "code",
   "execution_count": null,
   "metadata": {
    "id": "_hCDo6nClHcb"
   },
   "outputs": [],
   "source": [
    "Number_Rating = Ratings_with_Books.groupby('Title')['Rating'].count().reset_index()"
   ]
  },
  {
   "cell_type": "code",
   "execution_count": null,
   "metadata": {
    "colab": {
     "base_uri": "https://localhost:8080/",
     "height": 206
    },
    "id": "AOMb3y8FlIh7",
    "outputId": "ef67f229-e05a-43fe-e4b0-358a3a0296c3"
   },
   "outputs": [],
   "source": [
    "Number_Rating.head()"
   ]
  },
  {
   "cell_type": "code",
   "execution_count": null,
   "metadata": {
    "id": "nVn81cKClJpJ"
   },
   "outputs": [],
   "source": [
    "Number_Rating.rename(columns={'Rating':'Number of Ratings'}, inplace=True)"
   ]
  },
  {
   "cell_type": "code",
   "execution_count": null,
   "metadata": {
    "colab": {
     "base_uri": "https://localhost:8080/",
     "height": 206
    },
    "id": "FKy8VhSmlK7Q",
    "outputId": "1b7e75be-5ca0-468b-e949-bf09b880d4df"
   },
   "outputs": [],
   "source": [
    "Number_Rating.head()"
   ]
  },
  {
   "cell_type": "code",
   "execution_count": null,
   "metadata": {
    "colab": {
     "base_uri": "https://localhost:8080/"
    },
    "id": "9tMWEeQKlMT1",
    "outputId": "8354c0f4-6ad7-40c6-a5d3-ae15bd8a4c96"
   },
   "outputs": [],
   "source": [
    "Number_Rating.shape"
   ]
  },
  {
   "cell_type": "code",
   "execution_count": null,
   "metadata": {
    "id": "fqoTQXu2lNtm"
   },
   "outputs": [],
   "source": [
    "Final_Rating= Ratings_with_Books.merge(Number_Rating, on='Title')"
   ]
  },
  {
   "cell_type": "code",
   "execution_count": null,
   "metadata": {
    "colab": {
     "base_uri": "https://localhost:8080/",
     "height": 206
    },
    "id": "dTYUzX1ElOsl",
    "outputId": "5e1ec027-1fec-47e6-c406-67f5837501de"
   },
   "outputs": [],
   "source": [
    "Final_Rating.head()"
   ]
  },
  {
   "cell_type": "code",
   "execution_count": null,
   "metadata": {
    "id": "LNV0MD3HlQF8"
   },
   "outputs": [],
   "source": [
    "Final_Rating = Final_Rating[Final_Rating['Number of Ratings'] >= 50]"
   ]
  },
  {
   "cell_type": "code",
   "execution_count": null,
   "metadata": {
    "colab": {
     "base_uri": "https://localhost:8080/",
     "height": 206
    },
    "id": "okK5uNkblRRK",
    "outputId": "8751081d-4e15-41ae-9efc-becb16c020dc"
   },
   "outputs": [],
   "source": [
    "Final_Rating.head()"
   ]
  },
  {
   "cell_type": "code",
   "execution_count": null,
   "metadata": {
    "colab": {
     "base_uri": "https://localhost:8080/"
    },
    "id": "VAvrmruAlSLy",
    "outputId": "fedb5b0b-b1f0-4109-d897-94bb0b3d8ea1"
   },
   "outputs": [],
   "source": [
    "Final_Rating.shape"
   ]
  },
  {
   "cell_type": "code",
   "execution_count": null,
   "metadata": {
    "colab": {
     "base_uri": "https://localhost:8080/"
    },
    "id": "ADJYkGiclTdh",
    "outputId": "0ec234e9-c1f1-4c65-c4e8-3db469265938"
   },
   "outputs": [],
   "source": [
    "Final_Rating.drop_duplicates(['User_ID','Title'],inplace=True)\n",
    "Final_Rating.shape"
   ]
  },
  {
   "cell_type": "code",
   "execution_count": null,
   "metadata": {
    "colab": {
     "base_uri": "https://localhost:8080/",
     "height": 397
    },
    "id": "tqcxdsgElUgY",
    "outputId": "dd184223-aee9-451e-8b91-814eaea91868"
   },
   "outputs": [],
   "source": [
    "Final_Rating.isnull().sum()"
   ]
  },
  {
   "cell_type": "code",
   "execution_count": null,
   "metadata": {
    "colab": {
     "base_uri": "https://localhost:8080/",
     "height": 397
    },
    "id": "VwbW8t9TlVnn",
    "outputId": "39f93580-fd3d-410d-c092-bc28d52b0d51"
   },
   "outputs": [],
   "source": [
    "Final_Rating.dtypes"
   ]
  },
  {
   "cell_type": "markdown",
   "metadata": {
    "id": "uzf1vc4hsur2"
   },
   "source": [
    "**Top-K**"
   ]
  },
  {
   "cell_type": "code",
   "execution_count": null,
   "metadata": {
    "id": "AUrNEmMYlXOG"
   },
   "outputs": [],
   "source": [
    "agg_final_rating_df = Final_Rating.groupby('Title').agg(Average_Rating = ('Rating','mean'),Number_of_ratings=('Rating','count')).reset_index()"
   ]
  },
  {
   "cell_type": "code",
   "execution_count": null,
   "metadata": {
    "colab": {
     "base_uri": "https://localhost:8080/",
     "height": 206
    },
    "id": "HKVH5kT3qPFC",
    "outputId": "54fea22e-7c35-4d87-8b1b-a5014af0ee93"
   },
   "outputs": [],
   "source": [
    "agg_final_rating_df.head()"
   ]
  },
  {
   "cell_type": "code",
   "execution_count": null,
   "metadata": {
    "id": "rFRHcMJ8qQhS"
   },
   "outputs": [],
   "source": [
    "def recommend_top_k(n=5):\n",
    "  top_recommendations = agg_final_rating_df.sort_values(['Average_Rating','Number_of_ratings'],ascending=False).head(10)\n",
    "  return top_recommendations"
   ]
  },
  {
   "cell_type": "code",
   "execution_count": null,
   "metadata": {
    "id": "rYT2KGXeqyzR"
   },
   "outputs": [],
   "source": [
    "recommended_top_10 = recommend_top_k(10)"
   ]
  },
  {
   "cell_type": "code",
   "execution_count": null,
   "metadata": {
    "colab": {
     "base_uri": "https://localhost:8080/",
     "height": 397
    },
    "id": "4Q8YWE4yroz_",
    "outputId": "117f8a4d-0017-433a-ee48-ba36c2ad01f2"
   },
   "outputs": [],
   "source": [
    "print(\"Your Top 10 Recommendations : \\n\")\n",
    "recommended_top_10.head(10)"
   ]
  },
  {
   "cell_type": "code",
   "execution_count": null,
   "metadata": {
    "id": "aQ5tep9Qs0UZ"
   },
   "outputs": [],
   "source": [
    "# Collaborative Filtering\n",
    "def collaborative_filtering(User_id,Final_Rating, top_n=5):\n",
    "    user_item_matrix = Final_Rating.pivot(index=\"User_ID\", columns=\"ISBN\", values=\"Rating\").fillna(0)\n",
    "    sparse_matrix = csr_matrix(user_item_matrix.values)\n",
    "\n",
    "    model_knn = NearestNeighbors(metric=\"cosine\", algorithm=\"brute\")\n",
    "    model_knn.fit(sparse_matrix)\n",
    "\n",
    "    user_vector = user_item_matrix.loc[User_id].values.reshape(1, -1)\n",
    "    distances, indices = model_knn.kneighbors(user_vector, n_neighbors=top_n + 1)\n",
    "\n",
    "    recommended_book_ids = user_item_matrix.iloc[indices.flatten()[1:]].mean(axis=0).nlargest(top_n).index\n",
    "    recommended_books = Final_Rating[Final_Rating[\"ISBN\"].isin(recommended_book_ids)]\n",
    "\n",
    "    return recommended_books[[\"Title\", \"Author\"]]"
   ]
  },
  {
   "cell_type": "code",
   "execution_count": null,
   "metadata": {
    "colab": {
     "base_uri": "https://localhost:8080/"
    },
    "id": "Lm5bJfvTtuxb",
    "outputId": "56835da8-fd20-43a8-86bb-dd3c5a5db55d"
   },
   "outputs": [],
   "source": [
    "collab_rec = collaborative_filtering(277427, Final_Rating, top_n=10)\n",
    "print(\"Collaborative Filtering Recommendations:\\n\", collab_rec.drop_duplicates())"
   ]
  },
  {
   "cell_type": "code",
   "execution_count": null,
   "metadata": {
    "id": "p7bwiS0dwa4l"
   },
   "outputs": [],
   "source": [
    "# Content-Based Filtering\n",
    "def content_based_recommendation(book_title, books_df, top_n=5):\n",
    "    tfidf = TfidfVectorizer(stop_words=\"english\")\n",
    "    Final_Rating[\"Title\"] = Final_Rating[\"Title\"].fillna(\"\")\n",
    "    content_based_final_df = Final_Rating.drop_duplicates(subset=\"Title\")\n",
    "    tfidf_matrix = tfidf.fit_transform(content_based_final_df[\"Title\"])\n",
    "\n",
    "    cosine_sim = cosine_similarity(tfidf_matrix, tfidf_matrix)\n",
    "    indices = pd.Series(content_based_final_df.index, index=content_based_final_df[\"Title\"]).drop_duplicates()\n",
    "\n",
    "    idx = indices[book_title]\n",
    "    sim_scores = list(enumerate(cosine_sim[idx]))\n",
    "    sim_scores = sorted(sim_scores, key=lambda x: x[1], reverse=True)\n",
    "    sim_scores = sim_scores[1:top_n + 1]\n",
    "    book_indices = [i[0] for i in sim_scores]\n",
    "\n",
    "    return content_based_final_df.iloc[book_indices][[\"Title\", \"Author\"]]"
   ]
  },
  {
   "cell_type": "code",
   "execution_count": null,
   "metadata": {
    "colab": {
     "base_uri": "https://localhost:8080/"
    },
    "id": "a1aNvZNOw3Ep",
    "outputId": "454f0bfb-e5fb-4c7e-970a-9b3d6d0afb12"
   },
   "outputs": [],
   "source": [
    "content_rec = content_based_recommendation(\"Girl in Hyacinth Blue\", Final_Rating, top_n=5)\n",
    "print(\"Content-Based Recommendations:\\n\", content_rec.drop_duplicates())"
   ]
  }
 ],
 "metadata": {
  "colab": {
   "provenance": []
  },
  "kernelspec": {
   "display_name": "Python 3 (ipykernel)",
   "language": "python",
   "name": "python3"
  },
  "language_info": {
   "codemirror_mode": {
    "name": "ipython",
    "version": 3
   },
   "file_extension": ".py",
   "mimetype": "text/x-python",
   "name": "python",
   "nbconvert_exporter": "python",
   "pygments_lexer": "ipython3",
   "version": "3.11.5"
  }
 },
 "nbformat": 4,
 "nbformat_minor": 1
}
