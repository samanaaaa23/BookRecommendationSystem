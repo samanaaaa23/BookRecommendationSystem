{
 "cells": [
  {
   "cell_type": "code",
   "execution_count": 1,
   "metadata": {
    "id": "SXLEGGSajx2f"
   },
   "outputs": [],
   "source": [
    "#Importing all the necessary libraries\n",
    "import pandas as pd # data processing, CSV file I/O (e.g. pd.read_csv)\n",
    "import numpy as np\n",
    "\n",
    "import matplotlib.pyplot as plt\n",
    "import seaborn as sns\n",
    "import os\n",
    "from tabulate import tabulate\n",
    "#For model building\n",
    "import scipy\n",
    "import math\n",
    "import sklearn\n",
    "from nltk.corpus import stopwords\n",
    "from sklearn.metrics.pairwise import cosine_similarity # importing consine_similarity score from metrics module of seaborn lib.\n",
    "from scipy.sparse import csr_matrix\n",
    "from scipy.sparse.linalg import svds\n",
    "from sklearn.feature_extraction.text import TfidfVectorizer\n",
    "\n",
    "from sklearn.neighbors import NearestNeighbors\n",
    "\n",
    "\n",
    "# This is to supress the warning messages\n",
    "import warnings\n",
    "warnings.filterwarnings('ignore') # for ignoring the warnings"
   ]
  },
  {
   "cell_type": "code",
   "execution_count": 2,
   "metadata": {
    "colab": {
     "base_uri": "https://localhost:8080/"
    },
    "id": "OxRVxwlq6jSJ",
    "outputId": "354b785b-2864-4040-fe84-cd7b1202a386"
   },
   "outputs": [],
   "source": [
    "Books = pd.read_csv('Dataset/Books.csv' , sep=\";\", on_bad_lines='skip', encoding='latin-1')"
   ]
  },
  {
   "cell_type": "code",
   "execution_count": 3,
   "metadata": {
    "colab": {
     "base_uri": "https://localhost:8080/",
     "height": 434
    },
    "id": "yNoo6hlSkSCi",
    "outputId": "11bfa591-d7cf-4f54-f00a-6377f8af4363"
   },
   "outputs": [
    {
     "data": {
      "text/html": [
       "<div>\n",
       "<style scoped>\n",
       "    .dataframe tbody tr th:only-of-type {\n",
       "        vertical-align: middle;\n",
       "    }\n",
       "\n",
       "    .dataframe tbody tr th {\n",
       "        vertical-align: top;\n",
       "    }\n",
       "\n",
       "    .dataframe thead th {\n",
       "        text-align: right;\n",
       "    }\n",
       "</style>\n",
       "<table border=\"1\" class=\"dataframe\">\n",
       "  <thead>\n",
       "    <tr style=\"text-align: right;\">\n",
       "      <th></th>\n",
       "      <th>ISBN</th>\n",
       "      <th>Book-Title</th>\n",
       "      <th>Book-Author</th>\n",
       "      <th>Year-Of-Publication</th>\n",
       "      <th>Publisher</th>\n",
       "      <th>Image-URL-S</th>\n",
       "      <th>Image-URL-M</th>\n",
       "      <th>Image-URL-L</th>\n",
       "    </tr>\n",
       "  </thead>\n",
       "  <tbody>\n",
       "    <tr>\n",
       "      <th>0</th>\n",
       "      <td>0195153448</td>\n",
       "      <td>Classical Mythology</td>\n",
       "      <td>Mark P. O. Morford</td>\n",
       "      <td>2002</td>\n",
       "      <td>Oxford University Press</td>\n",
       "      <td>http://images.amazon.com/images/P/0195153448.0...</td>\n",
       "      <td>http://images.amazon.com/images/P/0195153448.0...</td>\n",
       "      <td>http://images.amazon.com/images/P/0195153448.0...</td>\n",
       "    </tr>\n",
       "    <tr>\n",
       "      <th>1</th>\n",
       "      <td>0002005018</td>\n",
       "      <td>Clara Callan</td>\n",
       "      <td>Richard Bruce Wright</td>\n",
       "      <td>2001</td>\n",
       "      <td>HarperFlamingo Canada</td>\n",
       "      <td>http://images.amazon.com/images/P/0002005018.0...</td>\n",
       "      <td>http://images.amazon.com/images/P/0002005018.0...</td>\n",
       "      <td>http://images.amazon.com/images/P/0002005018.0...</td>\n",
       "    </tr>\n",
       "    <tr>\n",
       "      <th>2</th>\n",
       "      <td>0060973129</td>\n",
       "      <td>Decision in Normandy</td>\n",
       "      <td>Carlo D'Este</td>\n",
       "      <td>1991</td>\n",
       "      <td>HarperPerennial</td>\n",
       "      <td>http://images.amazon.com/images/P/0060973129.0...</td>\n",
       "      <td>http://images.amazon.com/images/P/0060973129.0...</td>\n",
       "      <td>http://images.amazon.com/images/P/0060973129.0...</td>\n",
       "    </tr>\n",
       "    <tr>\n",
       "      <th>3</th>\n",
       "      <td>0374157065</td>\n",
       "      <td>Flu: The Story of the Great Influenza Pandemic...</td>\n",
       "      <td>Gina Bari Kolata</td>\n",
       "      <td>1999</td>\n",
       "      <td>Farrar Straus Giroux</td>\n",
       "      <td>http://images.amazon.com/images/P/0374157065.0...</td>\n",
       "      <td>http://images.amazon.com/images/P/0374157065.0...</td>\n",
       "      <td>http://images.amazon.com/images/P/0374157065.0...</td>\n",
       "    </tr>\n",
       "    <tr>\n",
       "      <th>4</th>\n",
       "      <td>0393045218</td>\n",
       "      <td>The Mummies of Urumchi</td>\n",
       "      <td>E. J. W. Barber</td>\n",
       "      <td>1999</td>\n",
       "      <td>W. W. Norton &amp;amp; Company</td>\n",
       "      <td>http://images.amazon.com/images/P/0393045218.0...</td>\n",
       "      <td>http://images.amazon.com/images/P/0393045218.0...</td>\n",
       "      <td>http://images.amazon.com/images/P/0393045218.0...</td>\n",
       "    </tr>\n",
       "  </tbody>\n",
       "</table>\n",
       "</div>"
      ],
      "text/plain": [
       "         ISBN                                         Book-Title  \\\n",
       "0  0195153448                                Classical Mythology   \n",
       "1  0002005018                                       Clara Callan   \n",
       "2  0060973129                               Decision in Normandy   \n",
       "3  0374157065  Flu: The Story of the Great Influenza Pandemic...   \n",
       "4  0393045218                             The Mummies of Urumchi   \n",
       "\n",
       "            Book-Author Year-Of-Publication                   Publisher  \\\n",
       "0    Mark P. O. Morford                2002     Oxford University Press   \n",
       "1  Richard Bruce Wright                2001       HarperFlamingo Canada   \n",
       "2          Carlo D'Este                1991             HarperPerennial   \n",
       "3      Gina Bari Kolata                1999        Farrar Straus Giroux   \n",
       "4       E. J. W. Barber                1999  W. W. Norton &amp; Company   \n",
       "\n",
       "                                         Image-URL-S  \\\n",
       "0  http://images.amazon.com/images/P/0195153448.0...   \n",
       "1  http://images.amazon.com/images/P/0002005018.0...   \n",
       "2  http://images.amazon.com/images/P/0060973129.0...   \n",
       "3  http://images.amazon.com/images/P/0374157065.0...   \n",
       "4  http://images.amazon.com/images/P/0393045218.0...   \n",
       "\n",
       "                                         Image-URL-M  \\\n",
       "0  http://images.amazon.com/images/P/0195153448.0...   \n",
       "1  http://images.amazon.com/images/P/0002005018.0...   \n",
       "2  http://images.amazon.com/images/P/0060973129.0...   \n",
       "3  http://images.amazon.com/images/P/0374157065.0...   \n",
       "4  http://images.amazon.com/images/P/0393045218.0...   \n",
       "\n",
       "                                         Image-URL-L  \n",
       "0  http://images.amazon.com/images/P/0195153448.0...  \n",
       "1  http://images.amazon.com/images/P/0002005018.0...  \n",
       "2  http://images.amazon.com/images/P/0060973129.0...  \n",
       "3  http://images.amazon.com/images/P/0374157065.0...  \n",
       "4  http://images.amazon.com/images/P/0393045218.0...  "
      ]
     },
     "execution_count": 3,
     "metadata": {},
     "output_type": "execute_result"
    }
   ],
   "source": [
    "Books.head()"
   ]
  },
  {
   "cell_type": "code",
   "execution_count": 4,
   "metadata": {
    "colab": {
     "base_uri": "https://localhost:8080/"
    },
    "id": "FulKq0q3kTwf",
    "outputId": "3b714c69-2111-433c-f252-9bbadc518b45"
   },
   "outputs": [
    {
     "data": {
      "text/plain": [
       "(271360, 8)"
      ]
     },
     "execution_count": 4,
     "metadata": {},
     "output_type": "execute_result"
    }
   ],
   "source": [
    "Books.shape"
   ]
  },
  {
   "cell_type": "code",
   "execution_count": 5,
   "metadata": {
    "colab": {
     "base_uri": "https://localhost:8080/"
    },
    "id": "fFo7QRYAkVWV",
    "outputId": "d14e6feb-bbe3-4433-b631-7b2bd17bee02"
   },
   "outputs": [
    {
     "data": {
      "text/plain": [
       "Index(['ISBN', 'Book-Title', 'Book-Author', 'Year-Of-Publication', 'Publisher',\n",
       "       'Image-URL-S', 'Image-URL-M', 'Image-URL-L'],\n",
       "      dtype='object')"
      ]
     },
     "execution_count": 5,
     "metadata": {},
     "output_type": "execute_result"
    }
   ],
   "source": [
    "Books.columns"
   ]
  },
  {
   "cell_type": "code",
   "execution_count": 6,
   "metadata": {
    "id": "oTeaqVe3kWOs"
   },
   "outputs": [],
   "source": [
    "Books= Books[['ISBN', 'Book-Title', 'Book-Author', 'Year-Of-Publication', 'Publisher']]"
   ]
  },
  {
   "cell_type": "code",
   "execution_count": 7,
   "metadata": {
    "colab": {
     "base_uri": "https://localhost:8080/"
    },
    "id": "nDIzIVG0kYC6",
    "outputId": "8a530223-df8d-4b83-fc02-4e46c760b9da"
   },
   "outputs": [
    {
     "data": {
      "text/plain": [
       "(271360, 5)"
      ]
     },
     "execution_count": 7,
     "metadata": {},
     "output_type": "execute_result"
    }
   ],
   "source": [
    "Books.shape"
   ]
  },
  {
   "cell_type": "code",
   "execution_count": 8,
   "metadata": {
    "id": "5Fha-6TFkaSA"
   },
   "outputs": [],
   "source": [
    "Ratings = pd.read_csv('Dataset/Ratings.csv' , sep=\";\", on_bad_lines='skip', encoding='latin-1')"
   ]
  },
  {
   "cell_type": "code",
   "execution_count": 9,
   "metadata": {
    "colab": {
     "base_uri": "https://localhost:8080/",
     "height": 206
    },
    "id": "rL77_i-2keWi",
    "outputId": "123e6818-1739-42a2-b823-c9860146cb09"
   },
   "outputs": [
    {
     "data": {
      "text/html": [
       "<div>\n",
       "<style scoped>\n",
       "    .dataframe tbody tr th:only-of-type {\n",
       "        vertical-align: middle;\n",
       "    }\n",
       "\n",
       "    .dataframe tbody tr th {\n",
       "        vertical-align: top;\n",
       "    }\n",
       "\n",
       "    .dataframe thead th {\n",
       "        text-align: right;\n",
       "    }\n",
       "</style>\n",
       "<table border=\"1\" class=\"dataframe\">\n",
       "  <thead>\n",
       "    <tr style=\"text-align: right;\">\n",
       "      <th></th>\n",
       "      <th>User-ID</th>\n",
       "      <th>ISBN</th>\n",
       "      <th>Book-Rating</th>\n",
       "    </tr>\n",
       "  </thead>\n",
       "  <tbody>\n",
       "    <tr>\n",
       "      <th>0</th>\n",
       "      <td>276725</td>\n",
       "      <td>034545104X</td>\n",
       "      <td>0</td>\n",
       "    </tr>\n",
       "    <tr>\n",
       "      <th>1</th>\n",
       "      <td>276726</td>\n",
       "      <td>0155061224</td>\n",
       "      <td>5</td>\n",
       "    </tr>\n",
       "    <tr>\n",
       "      <th>2</th>\n",
       "      <td>276727</td>\n",
       "      <td>0446520802</td>\n",
       "      <td>0</td>\n",
       "    </tr>\n",
       "    <tr>\n",
       "      <th>3</th>\n",
       "      <td>276729</td>\n",
       "      <td>052165615X</td>\n",
       "      <td>3</td>\n",
       "    </tr>\n",
       "    <tr>\n",
       "      <th>4</th>\n",
       "      <td>276729</td>\n",
       "      <td>0521795028</td>\n",
       "      <td>6</td>\n",
       "    </tr>\n",
       "  </tbody>\n",
       "</table>\n",
       "</div>"
      ],
      "text/plain": [
       "   User-ID        ISBN  Book-Rating\n",
       "0   276725  034545104X            0\n",
       "1   276726  0155061224            5\n",
       "2   276727  0446520802            0\n",
       "3   276729  052165615X            3\n",
       "4   276729  0521795028            6"
      ]
     },
     "execution_count": 9,
     "metadata": {},
     "output_type": "execute_result"
    }
   ],
   "source": [
    "Ratings.head()"
   ]
  },
  {
   "cell_type": "code",
   "execution_count": 10,
   "metadata": {
    "colab": {
     "base_uri": "https://localhost:8080/"
    },
    "id": "fbobdkyokfTD",
    "outputId": "c6342370-bbef-43ec-c3fb-2b4986ea5327"
   },
   "outputs": [
    {
     "data": {
      "text/plain": [
       "(1149780, 3)"
      ]
     },
     "execution_count": 10,
     "metadata": {},
     "output_type": "execute_result"
    }
   ],
   "source": [
    "Ratings.shape"
   ]
  },
  {
   "cell_type": "code",
   "execution_count": 11,
   "metadata": {
    "id": "dr3HMY3Tkgbp"
   },
   "outputs": [],
   "source": [
    "Users = pd.read_csv('Dataset/Users.csv' , sep=\";\", on_bad_lines='skip', encoding='latin-1')"
   ]
  },
  {
   "cell_type": "code",
   "execution_count": 12,
   "metadata": {
    "colab": {
     "base_uri": "https://localhost:8080/",
     "height": 206
    },
    "id": "t3G5GV59kjJF",
    "outputId": "e2d9c2aa-d7a1-4307-9eb4-afa229c04190"
   },
   "outputs": [
    {
     "data": {
      "text/html": [
       "<div>\n",
       "<style scoped>\n",
       "    .dataframe tbody tr th:only-of-type {\n",
       "        vertical-align: middle;\n",
       "    }\n",
       "\n",
       "    .dataframe tbody tr th {\n",
       "        vertical-align: top;\n",
       "    }\n",
       "\n",
       "    .dataframe thead th {\n",
       "        text-align: right;\n",
       "    }\n",
       "</style>\n",
       "<table border=\"1\" class=\"dataframe\">\n",
       "  <thead>\n",
       "    <tr style=\"text-align: right;\">\n",
       "      <th></th>\n",
       "      <th>User-ID</th>\n",
       "      <th>Location</th>\n",
       "      <th>Age</th>\n",
       "    </tr>\n",
       "  </thead>\n",
       "  <tbody>\n",
       "    <tr>\n",
       "      <th>0</th>\n",
       "      <td>1</td>\n",
       "      <td>nyc, new york, usa</td>\n",
       "      <td>NaN</td>\n",
       "    </tr>\n",
       "    <tr>\n",
       "      <th>1</th>\n",
       "      <td>2</td>\n",
       "      <td>stockton, california, usa</td>\n",
       "      <td>18.0</td>\n",
       "    </tr>\n",
       "    <tr>\n",
       "      <th>2</th>\n",
       "      <td>3</td>\n",
       "      <td>moscow, yukon territory, russia</td>\n",
       "      <td>NaN</td>\n",
       "    </tr>\n",
       "    <tr>\n",
       "      <th>3</th>\n",
       "      <td>4</td>\n",
       "      <td>porto, v.n.gaia, portugal</td>\n",
       "      <td>17.0</td>\n",
       "    </tr>\n",
       "    <tr>\n",
       "      <th>4</th>\n",
       "      <td>5</td>\n",
       "      <td>farnborough, hants, united kingdom</td>\n",
       "      <td>NaN</td>\n",
       "    </tr>\n",
       "  </tbody>\n",
       "</table>\n",
       "</div>"
      ],
      "text/plain": [
       "   User-ID                            Location   Age\n",
       "0        1                  nyc, new york, usa   NaN\n",
       "1        2           stockton, california, usa  18.0\n",
       "2        3     moscow, yukon territory, russia   NaN\n",
       "3        4           porto, v.n.gaia, portugal  17.0\n",
       "4        5  farnborough, hants, united kingdom   NaN"
      ]
     },
     "execution_count": 12,
     "metadata": {},
     "output_type": "execute_result"
    }
   ],
   "source": [
    "Users.head()"
   ]
  },
  {
   "cell_type": "code",
   "execution_count": 13,
   "metadata": {
    "colab": {
     "base_uri": "https://localhost:8080/"
    },
    "id": "1pV1GY6-kkGG",
    "outputId": "08fc0139-54f5-4915-cb54-d8400dd1068c"
   },
   "outputs": [
    {
     "name": "stdout",
     "output_type": "stream",
     "text": [
      "(271360, 5)\n",
      "(1149780, 3)\n",
      "(278858, 3)\n"
     ]
    }
   ],
   "source": [
    "print(Books.shape)\n",
    "print(Ratings.shape)\n",
    "print(Users.shape)"
   ]
  },
  {
   "cell_type": "code",
   "execution_count": 14,
   "metadata": {
    "id": "jqazTeJvklOr"
   },
   "outputs": [],
   "source": [
    "Books.rename(columns={\"Book-Title\":'Title',\n",
    "                      'Book-Author':'Author',\n",
    "                     \"Year-Of-Publication\":'Year',\n",
    "                     \"Publisher\":\"Publisher\"},inplace=True)"
   ]
  },
  {
   "cell_type": "code",
   "execution_count": 15,
   "metadata": {
    "colab": {
     "base_uri": "https://localhost:8080/",
     "height": 206
    },
    "id": "MUVsQm2Ukm-S",
    "outputId": "c764628c-17fa-4ebf-8950-40d646ab611e"
   },
   "outputs": [
    {
     "data": {
      "text/html": [
       "<div>\n",
       "<style scoped>\n",
       "    .dataframe tbody tr th:only-of-type {\n",
       "        vertical-align: middle;\n",
       "    }\n",
       "\n",
       "    .dataframe tbody tr th {\n",
       "        vertical-align: top;\n",
       "    }\n",
       "\n",
       "    .dataframe thead th {\n",
       "        text-align: right;\n",
       "    }\n",
       "</style>\n",
       "<table border=\"1\" class=\"dataframe\">\n",
       "  <thead>\n",
       "    <tr style=\"text-align: right;\">\n",
       "      <th></th>\n",
       "      <th>ISBN</th>\n",
       "      <th>Title</th>\n",
       "      <th>Author</th>\n",
       "      <th>Year</th>\n",
       "      <th>Publisher</th>\n",
       "    </tr>\n",
       "  </thead>\n",
       "  <tbody>\n",
       "    <tr>\n",
       "      <th>0</th>\n",
       "      <td>0195153448</td>\n",
       "      <td>Classical Mythology</td>\n",
       "      <td>Mark P. O. Morford</td>\n",
       "      <td>2002</td>\n",
       "      <td>Oxford University Press</td>\n",
       "    </tr>\n",
       "    <tr>\n",
       "      <th>1</th>\n",
       "      <td>0002005018</td>\n",
       "      <td>Clara Callan</td>\n",
       "      <td>Richard Bruce Wright</td>\n",
       "      <td>2001</td>\n",
       "      <td>HarperFlamingo Canada</td>\n",
       "    </tr>\n",
       "    <tr>\n",
       "      <th>2</th>\n",
       "      <td>0060973129</td>\n",
       "      <td>Decision in Normandy</td>\n",
       "      <td>Carlo D'Este</td>\n",
       "      <td>1991</td>\n",
       "      <td>HarperPerennial</td>\n",
       "    </tr>\n",
       "    <tr>\n",
       "      <th>3</th>\n",
       "      <td>0374157065</td>\n",
       "      <td>Flu: The Story of the Great Influenza Pandemic...</td>\n",
       "      <td>Gina Bari Kolata</td>\n",
       "      <td>1999</td>\n",
       "      <td>Farrar Straus Giroux</td>\n",
       "    </tr>\n",
       "    <tr>\n",
       "      <th>4</th>\n",
       "      <td>0393045218</td>\n",
       "      <td>The Mummies of Urumchi</td>\n",
       "      <td>E. J. W. Barber</td>\n",
       "      <td>1999</td>\n",
       "      <td>W. W. Norton &amp;amp; Company</td>\n",
       "    </tr>\n",
       "  </tbody>\n",
       "</table>\n",
       "</div>"
      ],
      "text/plain": [
       "         ISBN                                              Title  \\\n",
       "0  0195153448                                Classical Mythology   \n",
       "1  0002005018                                       Clara Callan   \n",
       "2  0060973129                               Decision in Normandy   \n",
       "3  0374157065  Flu: The Story of the Great Influenza Pandemic...   \n",
       "4  0393045218                             The Mummies of Urumchi   \n",
       "\n",
       "                 Author  Year                   Publisher  \n",
       "0    Mark P. O. Morford  2002     Oxford University Press  \n",
       "1  Richard Bruce Wright  2001       HarperFlamingo Canada  \n",
       "2          Carlo D'Este  1991             HarperPerennial  \n",
       "3      Gina Bari Kolata  1999        Farrar Straus Giroux  \n",
       "4       E. J. W. Barber  1999  W. W. Norton &amp; Company  "
      ]
     },
     "execution_count": 15,
     "metadata": {},
     "output_type": "execute_result"
    }
   ],
   "source": [
    "Books.head()"
   ]
  },
  {
   "cell_type": "code",
   "execution_count": 16,
   "metadata": {
    "id": "xzSxYlSvkpi_"
   },
   "outputs": [],
   "source": [
    "Users.rename(columns={\"User-ID\":'User_ID'}, inplace=True)"
   ]
  },
  {
   "cell_type": "code",
   "execution_count": 17,
   "metadata": {
    "colab": {
     "base_uri": "https://localhost:8080/",
     "height": 206
    },
    "id": "Dh2fo1HFkqpm",
    "outputId": "9c676fe2-564c-4282-8269-2e3fa8991cf7"
   },
   "outputs": [
    {
     "data": {
      "text/html": [
       "<div>\n",
       "<style scoped>\n",
       "    .dataframe tbody tr th:only-of-type {\n",
       "        vertical-align: middle;\n",
       "    }\n",
       "\n",
       "    .dataframe tbody tr th {\n",
       "        vertical-align: top;\n",
       "    }\n",
       "\n",
       "    .dataframe thead th {\n",
       "        text-align: right;\n",
       "    }\n",
       "</style>\n",
       "<table border=\"1\" class=\"dataframe\">\n",
       "  <thead>\n",
       "    <tr style=\"text-align: right;\">\n",
       "      <th></th>\n",
       "      <th>User_ID</th>\n",
       "      <th>Location</th>\n",
       "      <th>Age</th>\n",
       "    </tr>\n",
       "  </thead>\n",
       "  <tbody>\n",
       "    <tr>\n",
       "      <th>0</th>\n",
       "      <td>1</td>\n",
       "      <td>nyc, new york, usa</td>\n",
       "      <td>NaN</td>\n",
       "    </tr>\n",
       "    <tr>\n",
       "      <th>1</th>\n",
       "      <td>2</td>\n",
       "      <td>stockton, california, usa</td>\n",
       "      <td>18.0</td>\n",
       "    </tr>\n",
       "    <tr>\n",
       "      <th>2</th>\n",
       "      <td>3</td>\n",
       "      <td>moscow, yukon territory, russia</td>\n",
       "      <td>NaN</td>\n",
       "    </tr>\n",
       "    <tr>\n",
       "      <th>3</th>\n",
       "      <td>4</td>\n",
       "      <td>porto, v.n.gaia, portugal</td>\n",
       "      <td>17.0</td>\n",
       "    </tr>\n",
       "    <tr>\n",
       "      <th>4</th>\n",
       "      <td>5</td>\n",
       "      <td>farnborough, hants, united kingdom</td>\n",
       "      <td>NaN</td>\n",
       "    </tr>\n",
       "  </tbody>\n",
       "</table>\n",
       "</div>"
      ],
      "text/plain": [
       "   User_ID                            Location   Age\n",
       "0        1                  nyc, new york, usa   NaN\n",
       "1        2           stockton, california, usa  18.0\n",
       "2        3     moscow, yukon territory, russia   NaN\n",
       "3        4           porto, v.n.gaia, portugal  17.0\n",
       "4        5  farnborough, hants, united kingdom   NaN"
      ]
     },
     "execution_count": 17,
     "metadata": {},
     "output_type": "execute_result"
    }
   ],
   "source": [
    "Users.head()"
   ]
  },
  {
   "cell_type": "code",
   "execution_count": 18,
   "metadata": {
    "id": "o_el4kBGkruW"
   },
   "outputs": [],
   "source": [
    "Ratings.rename(columns={\"User-ID\":'User_ID',\n",
    "                      'Book-Rating':'Rating'},inplace=True)"
   ]
  },
  {
   "cell_type": "code",
   "execution_count": 19,
   "metadata": {
    "colab": {
     "base_uri": "https://localhost:8080/",
     "height": 206
    },
    "id": "nMdBUJwpkt_6",
    "outputId": "41f06f45-157c-4bd7-decf-ac8f1a3df27a"
   },
   "outputs": [
    {
     "data": {
      "text/html": [
       "<div>\n",
       "<style scoped>\n",
       "    .dataframe tbody tr th:only-of-type {\n",
       "        vertical-align: middle;\n",
       "    }\n",
       "\n",
       "    .dataframe tbody tr th {\n",
       "        vertical-align: top;\n",
       "    }\n",
       "\n",
       "    .dataframe thead th {\n",
       "        text-align: right;\n",
       "    }\n",
       "</style>\n",
       "<table border=\"1\" class=\"dataframe\">\n",
       "  <thead>\n",
       "    <tr style=\"text-align: right;\">\n",
       "      <th></th>\n",
       "      <th>User_ID</th>\n",
       "      <th>ISBN</th>\n",
       "      <th>Rating</th>\n",
       "    </tr>\n",
       "  </thead>\n",
       "  <tbody>\n",
       "    <tr>\n",
       "      <th>0</th>\n",
       "      <td>276725</td>\n",
       "      <td>034545104X</td>\n",
       "      <td>0</td>\n",
       "    </tr>\n",
       "    <tr>\n",
       "      <th>1</th>\n",
       "      <td>276726</td>\n",
       "      <td>0155061224</td>\n",
       "      <td>5</td>\n",
       "    </tr>\n",
       "    <tr>\n",
       "      <th>2</th>\n",
       "      <td>276727</td>\n",
       "      <td>0446520802</td>\n",
       "      <td>0</td>\n",
       "    </tr>\n",
       "    <tr>\n",
       "      <th>3</th>\n",
       "      <td>276729</td>\n",
       "      <td>052165615X</td>\n",
       "      <td>3</td>\n",
       "    </tr>\n",
       "    <tr>\n",
       "      <th>4</th>\n",
       "      <td>276729</td>\n",
       "      <td>0521795028</td>\n",
       "      <td>6</td>\n",
       "    </tr>\n",
       "  </tbody>\n",
       "</table>\n",
       "</div>"
      ],
      "text/plain": [
       "   User_ID        ISBN  Rating\n",
       "0   276725  034545104X       0\n",
       "1   276726  0155061224       5\n",
       "2   276727  0446520802       0\n",
       "3   276729  052165615X       3\n",
       "4   276729  0521795028       6"
      ]
     },
     "execution_count": 19,
     "metadata": {},
     "output_type": "execute_result"
    }
   ],
   "source": [
    "Ratings.head()"
   ]
  },
  {
   "cell_type": "code",
   "execution_count": 20,
   "metadata": {
    "colab": {
     "base_uri": "https://localhost:8080/"
    },
    "id": "sZfNamTIku8y",
    "outputId": "5dbe5249-9d7c-4390-afa9-b3b003919205"
   },
   "outputs": [
    {
     "name": "stdout",
     "output_type": "stream",
     "text": [
      "(271360, 5)\n",
      "(278858, 3)\n",
      "(1149780, 3)\n"
     ]
    }
   ],
   "source": [
    "print(Books.shape, Users.shape, Ratings.shape, sep='\\n')"
   ]
  },
  {
   "cell_type": "code",
   "execution_count": 21,
   "metadata": {
    "colab": {
     "base_uri": "https://localhost:8080/",
     "height": 489
    },
    "id": "o4r4499GkxKP",
    "outputId": "72f4ecfb-4d84-4b90-837a-cd1014440745"
   },
   "outputs": [
    {
     "data": {
      "text/plain": [
       "User_ID\n",
       "11676     13602\n",
       "198711     7550\n",
       "153662     6109\n",
       "98391      5891\n",
       "35859      5850\n",
       "          ...  \n",
       "116180        1\n",
       "116166        1\n",
       "116154        1\n",
       "116137        1\n",
       "276723        1\n",
       "Name: count, Length: 105283, dtype: int64"
      ]
     },
     "execution_count": 21,
     "metadata": {},
     "output_type": "execute_result"
    }
   ],
   "source": [
    "Ratings['User_ID'].value_counts()   #checking the count of ratings by the User_ID"
   ]
  },
  {
   "cell_type": "code",
   "execution_count": 22,
   "metadata": {
    "colab": {
     "base_uri": "https://localhost:8080/"
    },
    "id": "DW9InDoHky3l",
    "outputId": "b4cd5d05-7413-49dc-d7e4-8ac1655952ac"
   },
   "outputs": [
    {
     "data": {
      "text/plain": [
       "(105283,)"
      ]
     },
     "execution_count": 22,
     "metadata": {},
     "output_type": "execute_result"
    }
   ],
   "source": [
    "#checking number of unique User IDs\n",
    "Ratings['User_ID'].value_counts().shape\n",
    "Ratings['User_ID'].unique().shape"
   ]
  },
  {
   "cell_type": "code",
   "execution_count": 23,
   "metadata": {
    "id": "mTsZjYAmk2LD"
   },
   "outputs": [],
   "source": [
    "##storing users who had at least rated more than 200 books\n",
    "x= Ratings['User_ID'].value_counts() > 200"
   ]
  },
  {
   "cell_type": "code",
   "execution_count": 24,
   "metadata": {
    "colab": {
     "base_uri": "https://localhost:8080/"
    },
    "id": "tn8vZ0I0k5UI",
    "outputId": "942aea43-de03-4e7c-ed10-930d54a90a70"
   },
   "outputs": [
    {
     "data": {
      "text/plain": [
       "(899,)"
      ]
     },
     "execution_count": 24,
     "metadata": {},
     "output_type": "execute_result"
    }
   ],
   "source": [
    "x[x].shape"
   ]
  },
  {
   "cell_type": "code",
   "execution_count": 25,
   "metadata": {
    "colab": {
     "base_uri": "https://localhost:8080/"
    },
    "id": "sXVhXqjxk7A-",
    "outputId": "a657ab5f-67ac-4a40-f7b8-f846cb506607"
   },
   "outputs": [
    {
     "data": {
      "text/plain": [
       "Index([ 11676, 198711, 153662,  98391,  35859, 212898, 278418,  76352, 110973,\n",
       "       235105,\n",
       "       ...\n",
       "       260183,  73681,  44296, 155916,   9856, 274808,  28634,  59727, 268622,\n",
       "       188951],\n",
       "      dtype='int64', name='User_ID', length=899)"
      ]
     },
     "execution_count": 25,
     "metadata": {},
     "output_type": "execute_result"
    }
   ],
   "source": [
    "##storing the  list of User IDs\n",
    "y= x[x].index\n",
    "y"
   ]
  },
  {
   "cell_type": "code",
   "execution_count": 26,
   "metadata": {
    "id": "KUX-VwkRk-Oc"
   },
   "outputs": [],
   "source": [
    "Ratings = Ratings[Ratings['User_ID'].isin(y)]"
   ]
  },
  {
   "cell_type": "code",
   "execution_count": 27,
   "metadata": {
    "colab": {
     "base_uri": "https://localhost:8080/",
     "height": 206
    },
    "id": "ZKrdJ7HglAmZ",
    "outputId": "312aa82b-748b-40f6-c182-535911113c65"
   },
   "outputs": [
    {
     "data": {
      "text/html": [
       "<div>\n",
       "<style scoped>\n",
       "    .dataframe tbody tr th:only-of-type {\n",
       "        vertical-align: middle;\n",
       "    }\n",
       "\n",
       "    .dataframe tbody tr th {\n",
       "        vertical-align: top;\n",
       "    }\n",
       "\n",
       "    .dataframe thead th {\n",
       "        text-align: right;\n",
       "    }\n",
       "</style>\n",
       "<table border=\"1\" class=\"dataframe\">\n",
       "  <thead>\n",
       "    <tr style=\"text-align: right;\">\n",
       "      <th></th>\n",
       "      <th>User_ID</th>\n",
       "      <th>ISBN</th>\n",
       "      <th>Rating</th>\n",
       "    </tr>\n",
       "  </thead>\n",
       "  <tbody>\n",
       "    <tr>\n",
       "      <th>1456</th>\n",
       "      <td>277427</td>\n",
       "      <td>002542730X</td>\n",
       "      <td>10</td>\n",
       "    </tr>\n",
       "    <tr>\n",
       "      <th>1457</th>\n",
       "      <td>277427</td>\n",
       "      <td>0026217457</td>\n",
       "      <td>0</td>\n",
       "    </tr>\n",
       "    <tr>\n",
       "      <th>1458</th>\n",
       "      <td>277427</td>\n",
       "      <td>003008685X</td>\n",
       "      <td>8</td>\n",
       "    </tr>\n",
       "    <tr>\n",
       "      <th>1459</th>\n",
       "      <td>277427</td>\n",
       "      <td>0030615321</td>\n",
       "      <td>0</td>\n",
       "    </tr>\n",
       "    <tr>\n",
       "      <th>1460</th>\n",
       "      <td>277427</td>\n",
       "      <td>0060002050</td>\n",
       "      <td>0</td>\n",
       "    </tr>\n",
       "  </tbody>\n",
       "</table>\n",
       "</div>"
      ],
      "text/plain": [
       "      User_ID        ISBN  Rating\n",
       "1456   277427  002542730X      10\n",
       "1457   277427  0026217457       0\n",
       "1458   277427  003008685X       8\n",
       "1459   277427  0030615321       0\n",
       "1460   277427  0060002050       0"
      ]
     },
     "execution_count": 27,
     "metadata": {},
     "output_type": "execute_result"
    }
   ],
   "source": [
    "Ratings.head()"
   ]
  },
  {
   "cell_type": "code",
   "execution_count": 28,
   "metadata": {
    "id": "2ATYLIpClC2v"
   },
   "outputs": [],
   "source": [
    "##merging the ratings dataframe with books\n",
    "Ratings_with_Books = Ratings.merge(Books, on='ISBN').merge(Users, on='User_ID')"
   ]
  },
  {
   "cell_type": "code",
   "execution_count": 29,
   "metadata": {
    "colab": {
     "base_uri": "https://localhost:8080/",
     "height": 206
    },
    "id": "tWP1_quOlErN",
    "outputId": "c939cbae-ddca-4eaa-b774-2886c430a52b"
   },
   "outputs": [
    {
     "data": {
      "text/html": [
       "<div>\n",
       "<style scoped>\n",
       "    .dataframe tbody tr th:only-of-type {\n",
       "        vertical-align: middle;\n",
       "    }\n",
       "\n",
       "    .dataframe tbody tr th {\n",
       "        vertical-align: top;\n",
       "    }\n",
       "\n",
       "    .dataframe thead th {\n",
       "        text-align: right;\n",
       "    }\n",
       "</style>\n",
       "<table border=\"1\" class=\"dataframe\">\n",
       "  <thead>\n",
       "    <tr style=\"text-align: right;\">\n",
       "      <th></th>\n",
       "      <th>User_ID</th>\n",
       "      <th>ISBN</th>\n",
       "      <th>Rating</th>\n",
       "      <th>Title</th>\n",
       "      <th>Author</th>\n",
       "      <th>Year</th>\n",
       "      <th>Publisher</th>\n",
       "      <th>Location</th>\n",
       "      <th>Age</th>\n",
       "    </tr>\n",
       "  </thead>\n",
       "  <tbody>\n",
       "    <tr>\n",
       "      <th>0</th>\n",
       "      <td>277427</td>\n",
       "      <td>002542730X</td>\n",
       "      <td>10</td>\n",
       "      <td>Politically Correct Bedtime Stories: Modern Ta...</td>\n",
       "      <td>James Finn Garner</td>\n",
       "      <td>1994</td>\n",
       "      <td>John Wiley &amp;amp; Sons Inc</td>\n",
       "      <td>gilbert, arizona, usa</td>\n",
       "      <td>48.0</td>\n",
       "    </tr>\n",
       "    <tr>\n",
       "      <th>1</th>\n",
       "      <td>277427</td>\n",
       "      <td>0026217457</td>\n",
       "      <td>0</td>\n",
       "      <td>Vegetarian Times Complete Cookbook</td>\n",
       "      <td>Lucy  Moll</td>\n",
       "      <td>1995</td>\n",
       "      <td>John Wiley &amp;amp; Sons</td>\n",
       "      <td>gilbert, arizona, usa</td>\n",
       "      <td>48.0</td>\n",
       "    </tr>\n",
       "    <tr>\n",
       "      <th>2</th>\n",
       "      <td>277427</td>\n",
       "      <td>003008685X</td>\n",
       "      <td>8</td>\n",
       "      <td>Pioneers</td>\n",
       "      <td>James Fenimore Cooper</td>\n",
       "      <td>1974</td>\n",
       "      <td>Thomson Learning</td>\n",
       "      <td>gilbert, arizona, usa</td>\n",
       "      <td>48.0</td>\n",
       "    </tr>\n",
       "    <tr>\n",
       "      <th>3</th>\n",
       "      <td>277427</td>\n",
       "      <td>0030615321</td>\n",
       "      <td>0</td>\n",
       "      <td>Ask for May, Settle for June (A Doonesbury book)</td>\n",
       "      <td>G. B. Trudeau</td>\n",
       "      <td>1982</td>\n",
       "      <td>Henry Holt &amp;amp; Co</td>\n",
       "      <td>gilbert, arizona, usa</td>\n",
       "      <td>48.0</td>\n",
       "    </tr>\n",
       "    <tr>\n",
       "      <th>4</th>\n",
       "      <td>277427</td>\n",
       "      <td>0060002050</td>\n",
       "      <td>0</td>\n",
       "      <td>On a Wicked Dawn (Cynster Novels)</td>\n",
       "      <td>Stephanie Laurens</td>\n",
       "      <td>2002</td>\n",
       "      <td>Avon Books</td>\n",
       "      <td>gilbert, arizona, usa</td>\n",
       "      <td>48.0</td>\n",
       "    </tr>\n",
       "  </tbody>\n",
       "</table>\n",
       "</div>"
      ],
      "text/plain": [
       "   User_ID        ISBN  Rating  \\\n",
       "0   277427  002542730X      10   \n",
       "1   277427  0026217457       0   \n",
       "2   277427  003008685X       8   \n",
       "3   277427  0030615321       0   \n",
       "4   277427  0060002050       0   \n",
       "\n",
       "                                               Title                 Author  \\\n",
       "0  Politically Correct Bedtime Stories: Modern Ta...      James Finn Garner   \n",
       "1                 Vegetarian Times Complete Cookbook             Lucy  Moll   \n",
       "2                                           Pioneers  James Fenimore Cooper   \n",
       "3   Ask for May, Settle for June (A Doonesbury book)          G. B. Trudeau   \n",
       "4                  On a Wicked Dawn (Cynster Novels)      Stephanie Laurens   \n",
       "\n",
       "   Year                  Publisher               Location   Age  \n",
       "0  1994  John Wiley &amp; Sons Inc  gilbert, arizona, usa  48.0  \n",
       "1  1995      John Wiley &amp; Sons  gilbert, arizona, usa  48.0  \n",
       "2  1974           Thomson Learning  gilbert, arizona, usa  48.0  \n",
       "3  1982        Henry Holt &amp; Co  gilbert, arizona, usa  48.0  \n",
       "4  2002                 Avon Books  gilbert, arizona, usa  48.0  "
      ]
     },
     "execution_count": 29,
     "metadata": {},
     "output_type": "execute_result"
    }
   ],
   "source": [
    "Ratings_with_Books.head()"
   ]
  },
  {
   "cell_type": "code",
   "execution_count": 30,
   "metadata": {
    "colab": {
     "base_uri": "https://localhost:8080/"
    },
    "id": "M_bHsxlwlGTU",
    "outputId": "2eeddddc-acf5-42e3-9cf3-30d5388c3569"
   },
   "outputs": [
    {
     "data": {
      "text/plain": [
       "(487671, 9)"
      ]
     },
     "execution_count": 30,
     "metadata": {},
     "output_type": "execute_result"
    }
   ],
   "source": [
    "Ratings_with_Books.shape"
   ]
  },
  {
   "cell_type": "code",
   "execution_count": 31,
   "metadata": {
    "id": "_hCDo6nClHcb"
   },
   "outputs": [],
   "source": [
    "Number_Rating = Ratings_with_Books.groupby('Title')['Rating'].count().reset_index()"
   ]
  },
  {
   "cell_type": "code",
   "execution_count": 32,
   "metadata": {
    "colab": {
     "base_uri": "https://localhost:8080/",
     "height": 206
    },
    "id": "AOMb3y8FlIh7",
    "outputId": "ef67f229-e05a-43fe-e4b0-358a3a0296c3"
   },
   "outputs": [
    {
     "data": {
      "text/html": [
       "<div>\n",
       "<style scoped>\n",
       "    .dataframe tbody tr th:only-of-type {\n",
       "        vertical-align: middle;\n",
       "    }\n",
       "\n",
       "    .dataframe tbody tr th {\n",
       "        vertical-align: top;\n",
       "    }\n",
       "\n",
       "    .dataframe thead th {\n",
       "        text-align: right;\n",
       "    }\n",
       "</style>\n",
       "<table border=\"1\" class=\"dataframe\">\n",
       "  <thead>\n",
       "    <tr style=\"text-align: right;\">\n",
       "      <th></th>\n",
       "      <th>Title</th>\n",
       "      <th>Rating</th>\n",
       "    </tr>\n",
       "  </thead>\n",
       "  <tbody>\n",
       "    <tr>\n",
       "      <th>0</th>\n",
       "      <td>A Light in the Storm: The Civil War Diary of ...</td>\n",
       "      <td>2</td>\n",
       "    </tr>\n",
       "    <tr>\n",
       "      <th>1</th>\n",
       "      <td>Always Have Popsicles</td>\n",
       "      <td>1</td>\n",
       "    </tr>\n",
       "    <tr>\n",
       "      <th>2</th>\n",
       "      <td>Apple Magic (The Collector's series)</td>\n",
       "      <td>1</td>\n",
       "    </tr>\n",
       "    <tr>\n",
       "      <th>3</th>\n",
       "      <td>Beyond IBM: Leadership Marketing and Finance ...</td>\n",
       "      <td>1</td>\n",
       "    </tr>\n",
       "    <tr>\n",
       "      <th>4</th>\n",
       "      <td>Clifford Visita El Hospital (Clifford El Gran...</td>\n",
       "      <td>1</td>\n",
       "    </tr>\n",
       "  </tbody>\n",
       "</table>\n",
       "</div>"
      ],
      "text/plain": [
       "                                               Title  Rating\n",
       "0   A Light in the Storm: The Civil War Diary of ...       2\n",
       "1                              Always Have Popsicles       1\n",
       "2               Apple Magic (The Collector's series)       1\n",
       "3   Beyond IBM: Leadership Marketing and Finance ...       1\n",
       "4   Clifford Visita El Hospital (Clifford El Gran...       1"
      ]
     },
     "execution_count": 32,
     "metadata": {},
     "output_type": "execute_result"
    }
   ],
   "source": [
    "Number_Rating.head()"
   ]
  },
  {
   "cell_type": "code",
   "execution_count": 33,
   "metadata": {
    "id": "nVn81cKClJpJ"
   },
   "outputs": [],
   "source": [
    "Number_Rating.rename(columns={'Rating':'Number of Ratings'}, inplace=True)"
   ]
  },
  {
   "cell_type": "code",
   "execution_count": 34,
   "metadata": {
    "colab": {
     "base_uri": "https://localhost:8080/",
     "height": 206
    },
    "id": "FKy8VhSmlK7Q",
    "outputId": "1b7e75be-5ca0-468b-e949-bf09b880d4df"
   },
   "outputs": [
    {
     "data": {
      "text/html": [
       "<div>\n",
       "<style scoped>\n",
       "    .dataframe tbody tr th:only-of-type {\n",
       "        vertical-align: middle;\n",
       "    }\n",
       "\n",
       "    .dataframe tbody tr th {\n",
       "        vertical-align: top;\n",
       "    }\n",
       "\n",
       "    .dataframe thead th {\n",
       "        text-align: right;\n",
       "    }\n",
       "</style>\n",
       "<table border=\"1\" class=\"dataframe\">\n",
       "  <thead>\n",
       "    <tr style=\"text-align: right;\">\n",
       "      <th></th>\n",
       "      <th>Title</th>\n",
       "      <th>Number of Ratings</th>\n",
       "    </tr>\n",
       "  </thead>\n",
       "  <tbody>\n",
       "    <tr>\n",
       "      <th>0</th>\n",
       "      <td>A Light in the Storm: The Civil War Diary of ...</td>\n",
       "      <td>2</td>\n",
       "    </tr>\n",
       "    <tr>\n",
       "      <th>1</th>\n",
       "      <td>Always Have Popsicles</td>\n",
       "      <td>1</td>\n",
       "    </tr>\n",
       "    <tr>\n",
       "      <th>2</th>\n",
       "      <td>Apple Magic (The Collector's series)</td>\n",
       "      <td>1</td>\n",
       "    </tr>\n",
       "    <tr>\n",
       "      <th>3</th>\n",
       "      <td>Beyond IBM: Leadership Marketing and Finance ...</td>\n",
       "      <td>1</td>\n",
       "    </tr>\n",
       "    <tr>\n",
       "      <th>4</th>\n",
       "      <td>Clifford Visita El Hospital (Clifford El Gran...</td>\n",
       "      <td>1</td>\n",
       "    </tr>\n",
       "  </tbody>\n",
       "</table>\n",
       "</div>"
      ],
      "text/plain": [
       "                                               Title  Number of Ratings\n",
       "0   A Light in the Storm: The Civil War Diary of ...                  2\n",
       "1                              Always Have Popsicles                  1\n",
       "2               Apple Magic (The Collector's series)                  1\n",
       "3   Beyond IBM: Leadership Marketing and Finance ...                  1\n",
       "4   Clifford Visita El Hospital (Clifford El Gran...                  1"
      ]
     },
     "execution_count": 34,
     "metadata": {},
     "output_type": "execute_result"
    }
   ],
   "source": [
    "Number_Rating.head()"
   ]
  },
  {
   "cell_type": "code",
   "execution_count": 35,
   "metadata": {
    "colab": {
     "base_uri": "https://localhost:8080/"
    },
    "id": "9tMWEeQKlMT1",
    "outputId": "8354c0f4-6ad7-40c6-a5d3-ae15bd8a4c96"
   },
   "outputs": [
    {
     "data": {
      "text/plain": [
       "(160269, 2)"
      ]
     },
     "execution_count": 35,
     "metadata": {},
     "output_type": "execute_result"
    }
   ],
   "source": [
    "Number_Rating.shape"
   ]
  },
  {
   "cell_type": "code",
   "execution_count": 36,
   "metadata": {
    "id": "fqoTQXu2lNtm"
   },
   "outputs": [],
   "source": [
    "Final_Rating= Ratings_with_Books.merge(Number_Rating, on='Title')"
   ]
  },
  {
   "cell_type": "code",
   "execution_count": 37,
   "metadata": {
    "colab": {
     "base_uri": "https://localhost:8080/",
     "height": 206
    },
    "id": "dTYUzX1ElOsl",
    "outputId": "5e1ec027-1fec-47e6-c406-67f5837501de"
   },
   "outputs": [
    {
     "data": {
      "text/html": [
       "<div>\n",
       "<style scoped>\n",
       "    .dataframe tbody tr th:only-of-type {\n",
       "        vertical-align: middle;\n",
       "    }\n",
       "\n",
       "    .dataframe tbody tr th {\n",
       "        vertical-align: top;\n",
       "    }\n",
       "\n",
       "    .dataframe thead th {\n",
       "        text-align: right;\n",
       "    }\n",
       "</style>\n",
       "<table border=\"1\" class=\"dataframe\">\n",
       "  <thead>\n",
       "    <tr style=\"text-align: right;\">\n",
       "      <th></th>\n",
       "      <th>User_ID</th>\n",
       "      <th>ISBN</th>\n",
       "      <th>Rating</th>\n",
       "      <th>Title</th>\n",
       "      <th>Author</th>\n",
       "      <th>Year</th>\n",
       "      <th>Publisher</th>\n",
       "      <th>Location</th>\n",
       "      <th>Age</th>\n",
       "      <th>Number of Ratings</th>\n",
       "    </tr>\n",
       "  </thead>\n",
       "  <tbody>\n",
       "    <tr>\n",
       "      <th>0</th>\n",
       "      <td>277427</td>\n",
       "      <td>002542730X</td>\n",
       "      <td>10</td>\n",
       "      <td>Politically Correct Bedtime Stories: Modern Ta...</td>\n",
       "      <td>James Finn Garner</td>\n",
       "      <td>1994</td>\n",
       "      <td>John Wiley &amp;amp; Sons Inc</td>\n",
       "      <td>gilbert, arizona, usa</td>\n",
       "      <td>48.0</td>\n",
       "      <td>82</td>\n",
       "    </tr>\n",
       "    <tr>\n",
       "      <th>1</th>\n",
       "      <td>277427</td>\n",
       "      <td>0026217457</td>\n",
       "      <td>0</td>\n",
       "      <td>Vegetarian Times Complete Cookbook</td>\n",
       "      <td>Lucy  Moll</td>\n",
       "      <td>1995</td>\n",
       "      <td>John Wiley &amp;amp; Sons</td>\n",
       "      <td>gilbert, arizona, usa</td>\n",
       "      <td>48.0</td>\n",
       "      <td>7</td>\n",
       "    </tr>\n",
       "    <tr>\n",
       "      <th>2</th>\n",
       "      <td>277427</td>\n",
       "      <td>003008685X</td>\n",
       "      <td>8</td>\n",
       "      <td>Pioneers</td>\n",
       "      <td>James Fenimore Cooper</td>\n",
       "      <td>1974</td>\n",
       "      <td>Thomson Learning</td>\n",
       "      <td>gilbert, arizona, usa</td>\n",
       "      <td>48.0</td>\n",
       "      <td>1</td>\n",
       "    </tr>\n",
       "    <tr>\n",
       "      <th>3</th>\n",
       "      <td>277427</td>\n",
       "      <td>0030615321</td>\n",
       "      <td>0</td>\n",
       "      <td>Ask for May, Settle for June (A Doonesbury book)</td>\n",
       "      <td>G. B. Trudeau</td>\n",
       "      <td>1982</td>\n",
       "      <td>Henry Holt &amp;amp; Co</td>\n",
       "      <td>gilbert, arizona, usa</td>\n",
       "      <td>48.0</td>\n",
       "      <td>1</td>\n",
       "    </tr>\n",
       "    <tr>\n",
       "      <th>4</th>\n",
       "      <td>277427</td>\n",
       "      <td>0060002050</td>\n",
       "      <td>0</td>\n",
       "      <td>On a Wicked Dawn (Cynster Novels)</td>\n",
       "      <td>Stephanie Laurens</td>\n",
       "      <td>2002</td>\n",
       "      <td>Avon Books</td>\n",
       "      <td>gilbert, arizona, usa</td>\n",
       "      <td>48.0</td>\n",
       "      <td>13</td>\n",
       "    </tr>\n",
       "  </tbody>\n",
       "</table>\n",
       "</div>"
      ],
      "text/plain": [
       "   User_ID        ISBN  Rating  \\\n",
       "0   277427  002542730X      10   \n",
       "1   277427  0026217457       0   \n",
       "2   277427  003008685X       8   \n",
       "3   277427  0030615321       0   \n",
       "4   277427  0060002050       0   \n",
       "\n",
       "                                               Title                 Author  \\\n",
       "0  Politically Correct Bedtime Stories: Modern Ta...      James Finn Garner   \n",
       "1                 Vegetarian Times Complete Cookbook             Lucy  Moll   \n",
       "2                                           Pioneers  James Fenimore Cooper   \n",
       "3   Ask for May, Settle for June (A Doonesbury book)          G. B. Trudeau   \n",
       "4                  On a Wicked Dawn (Cynster Novels)      Stephanie Laurens   \n",
       "\n",
       "   Year                  Publisher               Location   Age  \\\n",
       "0  1994  John Wiley &amp; Sons Inc  gilbert, arizona, usa  48.0   \n",
       "1  1995      John Wiley &amp; Sons  gilbert, arizona, usa  48.0   \n",
       "2  1974           Thomson Learning  gilbert, arizona, usa  48.0   \n",
       "3  1982        Henry Holt &amp; Co  gilbert, arizona, usa  48.0   \n",
       "4  2002                 Avon Books  gilbert, arizona, usa  48.0   \n",
       "\n",
       "   Number of Ratings  \n",
       "0                 82  \n",
       "1                  7  \n",
       "2                  1  \n",
       "3                  1  \n",
       "4                 13  "
      ]
     },
     "execution_count": 37,
     "metadata": {},
     "output_type": "execute_result"
    }
   ],
   "source": [
    "Final_Rating.head()"
   ]
  },
  {
   "cell_type": "code",
   "execution_count": 38,
   "metadata": {
    "id": "LNV0MD3HlQF8"
   },
   "outputs": [],
   "source": [
    "Final_Rating = Final_Rating[Final_Rating['Number of Ratings'] >= 50]"
   ]
  },
  {
   "cell_type": "code",
   "execution_count": 39,
   "metadata": {
    "colab": {
     "base_uri": "https://localhost:8080/",
     "height": 206
    },
    "id": "okK5uNkblRRK",
    "outputId": "8751081d-4e15-41ae-9efc-becb16c020dc"
   },
   "outputs": [
    {
     "data": {
      "text/html": [
       "<div>\n",
       "<style scoped>\n",
       "    .dataframe tbody tr th:only-of-type {\n",
       "        vertical-align: middle;\n",
       "    }\n",
       "\n",
       "    .dataframe tbody tr th {\n",
       "        vertical-align: top;\n",
       "    }\n",
       "\n",
       "    .dataframe thead th {\n",
       "        text-align: right;\n",
       "    }\n",
       "</style>\n",
       "<table border=\"1\" class=\"dataframe\">\n",
       "  <thead>\n",
       "    <tr style=\"text-align: right;\">\n",
       "      <th></th>\n",
       "      <th>User_ID</th>\n",
       "      <th>ISBN</th>\n",
       "      <th>Rating</th>\n",
       "      <th>Title</th>\n",
       "      <th>Author</th>\n",
       "      <th>Year</th>\n",
       "      <th>Publisher</th>\n",
       "      <th>Location</th>\n",
       "      <th>Age</th>\n",
       "      <th>Number of Ratings</th>\n",
       "    </tr>\n",
       "  </thead>\n",
       "  <tbody>\n",
       "    <tr>\n",
       "      <th>0</th>\n",
       "      <td>277427</td>\n",
       "      <td>002542730X</td>\n",
       "      <td>10</td>\n",
       "      <td>Politically Correct Bedtime Stories: Modern Ta...</td>\n",
       "      <td>James Finn Garner</td>\n",
       "      <td>1994</td>\n",
       "      <td>John Wiley &amp;amp; Sons Inc</td>\n",
       "      <td>gilbert, arizona, usa</td>\n",
       "      <td>48.0</td>\n",
       "      <td>82</td>\n",
       "    </tr>\n",
       "    <tr>\n",
       "      <th>13</th>\n",
       "      <td>277427</td>\n",
       "      <td>0060930535</td>\n",
       "      <td>0</td>\n",
       "      <td>The Poisonwood Bible: A Novel</td>\n",
       "      <td>Barbara Kingsolver</td>\n",
       "      <td>1999</td>\n",
       "      <td>Perennial</td>\n",
       "      <td>gilbert, arizona, usa</td>\n",
       "      <td>48.0</td>\n",
       "      <td>133</td>\n",
       "    </tr>\n",
       "    <tr>\n",
       "      <th>15</th>\n",
       "      <td>277427</td>\n",
       "      <td>0060934417</td>\n",
       "      <td>0</td>\n",
       "      <td>Bel Canto: A Novel</td>\n",
       "      <td>Ann Patchett</td>\n",
       "      <td>2002</td>\n",
       "      <td>Perennial</td>\n",
       "      <td>gilbert, arizona, usa</td>\n",
       "      <td>48.0</td>\n",
       "      <td>108</td>\n",
       "    </tr>\n",
       "    <tr>\n",
       "      <th>18</th>\n",
       "      <td>277427</td>\n",
       "      <td>0061009059</td>\n",
       "      <td>9</td>\n",
       "      <td>One for the Money (Stephanie Plum Novels (Pape...</td>\n",
       "      <td>Janet Evanovich</td>\n",
       "      <td>1995</td>\n",
       "      <td>HarperTorch</td>\n",
       "      <td>gilbert, arizona, usa</td>\n",
       "      <td>48.0</td>\n",
       "      <td>108</td>\n",
       "    </tr>\n",
       "    <tr>\n",
       "      <th>24</th>\n",
       "      <td>277427</td>\n",
       "      <td>006440188X</td>\n",
       "      <td>0</td>\n",
       "      <td>The Secret Garden</td>\n",
       "      <td>Frances Hodgson Burnett</td>\n",
       "      <td>1998</td>\n",
       "      <td>HarperTrophy</td>\n",
       "      <td>gilbert, arizona, usa</td>\n",
       "      <td>48.0</td>\n",
       "      <td>79</td>\n",
       "    </tr>\n",
       "  </tbody>\n",
       "</table>\n",
       "</div>"
      ],
      "text/plain": [
       "    User_ID        ISBN  Rating  \\\n",
       "0    277427  002542730X      10   \n",
       "13   277427  0060930535       0   \n",
       "15   277427  0060934417       0   \n",
       "18   277427  0061009059       9   \n",
       "24   277427  006440188X       0   \n",
       "\n",
       "                                                Title  \\\n",
       "0   Politically Correct Bedtime Stories: Modern Ta...   \n",
       "13                      The Poisonwood Bible: A Novel   \n",
       "15                                 Bel Canto: A Novel   \n",
       "18  One for the Money (Stephanie Plum Novels (Pape...   \n",
       "24                                  The Secret Garden   \n",
       "\n",
       "                     Author  Year                  Publisher  \\\n",
       "0         James Finn Garner  1994  John Wiley &amp; Sons Inc   \n",
       "13       Barbara Kingsolver  1999                  Perennial   \n",
       "15             Ann Patchett  2002                  Perennial   \n",
       "18          Janet Evanovich  1995                HarperTorch   \n",
       "24  Frances Hodgson Burnett  1998               HarperTrophy   \n",
       "\n",
       "                 Location   Age  Number of Ratings  \n",
       "0   gilbert, arizona, usa  48.0                 82  \n",
       "13  gilbert, arizona, usa  48.0                133  \n",
       "15  gilbert, arizona, usa  48.0                108  \n",
       "18  gilbert, arizona, usa  48.0                108  \n",
       "24  gilbert, arizona, usa  48.0                 79  "
      ]
     },
     "execution_count": 39,
     "metadata": {},
     "output_type": "execute_result"
    }
   ],
   "source": [
    "Final_Rating.head()"
   ]
  },
  {
   "cell_type": "code",
   "execution_count": 40,
   "metadata": {
    "colab": {
     "base_uri": "https://localhost:8080/"
    },
    "id": "VAvrmruAlSLy",
    "outputId": "fedb5b0b-b1f0-4109-d897-94bb0b3d8ea1"
   },
   "outputs": [
    {
     "data": {
      "text/plain": [
       "(61853, 10)"
      ]
     },
     "execution_count": 40,
     "metadata": {},
     "output_type": "execute_result"
    }
   ],
   "source": [
    "Final_Rating.shape"
   ]
  },
  {
   "cell_type": "code",
   "execution_count": 41,
   "metadata": {
    "colab": {
     "base_uri": "https://localhost:8080/"
    },
    "id": "ADJYkGiclTdh",
    "outputId": "0ec234e9-c1f1-4c65-c4e8-3db469265938"
   },
   "outputs": [
    {
     "data": {
      "text/plain": [
       "(59850, 10)"
      ]
     },
     "execution_count": 41,
     "metadata": {},
     "output_type": "execute_result"
    }
   ],
   "source": [
    "Final_Rating.drop_duplicates(['User_ID','Title'],inplace=True)\n",
    "Final_Rating.shape"
   ]
  },
  {
   "cell_type": "code",
   "execution_count": 42,
   "metadata": {
    "colab": {
     "base_uri": "https://localhost:8080/",
     "height": 397
    },
    "id": "tqcxdsgElUgY",
    "outputId": "dd184223-aee9-451e-8b91-814eaea91868"
   },
   "outputs": [
    {
     "data": {
      "text/plain": [
       "User_ID                  0\n",
       "ISBN                     0\n",
       "Rating                   0\n",
       "Title                    0\n",
       "Author                   0\n",
       "Year                     0\n",
       "Publisher                0\n",
       "Location                 0\n",
       "Age                  13247\n",
       "Number of Ratings        0\n",
       "dtype: int64"
      ]
     },
     "execution_count": 42,
     "metadata": {},
     "output_type": "execute_result"
    }
   ],
   "source": [
    "Final_Rating.isnull().sum()"
   ]
  },
  {
   "cell_type": "code",
   "execution_count": 43,
   "metadata": {
    "colab": {
     "base_uri": "https://localhost:8080/",
     "height": 397
    },
    "id": "VwbW8t9TlVnn",
    "outputId": "39f93580-fd3d-410d-c092-bc28d52b0d51"
   },
   "outputs": [
    {
     "data": {
      "text/plain": [
       "User_ID                int64\n",
       "ISBN                  object\n",
       "Rating                 int64\n",
       "Title                 object\n",
       "Author                object\n",
       "Year                  object\n",
       "Publisher             object\n",
       "Location              object\n",
       "Age                  float64\n",
       "Number of Ratings      int64\n",
       "dtype: object"
      ]
     },
     "execution_count": 43,
     "metadata": {},
     "output_type": "execute_result"
    }
   ],
   "source": [
    "Final_Rating.dtypes"
   ]
  },
  {
   "cell_type": "markdown",
   "metadata": {
    "id": "uzf1vc4hsur2"
   },
   "source": [
    "**Top-K**"
   ]
  },
  {
   "cell_type": "code",
   "execution_count": 45,
   "metadata": {
    "id": "AUrNEmMYlXOG"
   },
   "outputs": [],
   "source": [
    "agg_final_rating_df = Final_Rating.groupby('Title').agg(Average_Rating = ('Rating','mean'),Number_of_ratings=('Rating','count')).reset_index()"
   ]
  },
  {
   "cell_type": "code",
   "execution_count": 46,
   "metadata": {
    "colab": {
     "base_uri": "https://localhost:8080/",
     "height": 206
    },
    "id": "HKVH5kT3qPFC",
    "outputId": "54fea22e-7c35-4d87-8b1b-a5014af0ee93"
   },
   "outputs": [
    {
     "data": {
      "text/html": [
       "<div>\n",
       "<style scoped>\n",
       "    .dataframe tbody tr th:only-of-type {\n",
       "        vertical-align: middle;\n",
       "    }\n",
       "\n",
       "    .dataframe tbody tr th {\n",
       "        vertical-align: top;\n",
       "    }\n",
       "\n",
       "    .dataframe thead th {\n",
       "        text-align: right;\n",
       "    }\n",
       "</style>\n",
       "<table border=\"1\" class=\"dataframe\">\n",
       "  <thead>\n",
       "    <tr style=\"text-align: right;\">\n",
       "      <th></th>\n",
       "      <th>Title</th>\n",
       "      <th>Average_Rating</th>\n",
       "      <th>Number_of_ratings</th>\n",
       "    </tr>\n",
       "  </thead>\n",
       "  <tbody>\n",
       "    <tr>\n",
       "      <th>0</th>\n",
       "      <td>1984</td>\n",
       "      <td>3.347222</td>\n",
       "      <td>72</td>\n",
       "    </tr>\n",
       "    <tr>\n",
       "      <th>1</th>\n",
       "      <td>1st to Die: A Novel</td>\n",
       "      <td>2.196078</td>\n",
       "      <td>153</td>\n",
       "    </tr>\n",
       "    <tr>\n",
       "      <th>2</th>\n",
       "      <td>2nd Chance</td>\n",
       "      <td>2.347826</td>\n",
       "      <td>115</td>\n",
       "    </tr>\n",
       "    <tr>\n",
       "      <th>3</th>\n",
       "      <td>4 Blondes</td>\n",
       "      <td>0.971831</td>\n",
       "      <td>71</td>\n",
       "    </tr>\n",
       "    <tr>\n",
       "      <th>4</th>\n",
       "      <td>84 Charing Cross Road</td>\n",
       "      <td>4.568627</td>\n",
       "      <td>51</td>\n",
       "    </tr>\n",
       "  </tbody>\n",
       "</table>\n",
       "</div>"
      ],
      "text/plain": [
       "                   Title  Average_Rating  Number_of_ratings\n",
       "0                   1984        3.347222                 72\n",
       "1    1st to Die: A Novel        2.196078                153\n",
       "2             2nd Chance        2.347826                115\n",
       "3              4 Blondes        0.971831                 71\n",
       "4  84 Charing Cross Road        4.568627                 51"
      ]
     },
     "execution_count": 46,
     "metadata": {},
     "output_type": "execute_result"
    }
   ],
   "source": [
    "agg_final_rating_df.head()"
   ]
  },
  {
   "cell_type": "code",
   "execution_count": 47,
   "metadata": {
    "id": "rFRHcMJ8qQhS"
   },
   "outputs": [],
   "source": [
    "def recommend_top_k(n=5):\n",
    "  top_recommendations = agg_final_rating_df.sort_values(['Average_Rating','Number_of_ratings'],ascending=False).head(10)\n",
    "  return top_recommendations"
   ]
  },
  {
   "cell_type": "code",
   "execution_count": 48,
   "metadata": {
    "id": "rYT2KGXeqyzR"
   },
   "outputs": [],
   "source": [
    "recommended_top_10 = recommend_top_k(10)"
   ]
  },
  {
   "cell_type": "code",
   "execution_count": 49,
   "metadata": {
    "colab": {
     "base_uri": "https://localhost:8080/",
     "height": 397
    },
    "id": "4Q8YWE4yroz_",
    "outputId": "117f8a4d-0017-433a-ee48-ba36c2ad01f2"
   },
   "outputs": [
    {
     "name": "stdout",
     "output_type": "stream",
     "text": [
      "Your Top 10 Recommendations : \n",
      "\n"
     ]
    },
    {
     "data": {
      "text/html": [
       "<div>\n",
       "<style scoped>\n",
       "    .dataframe tbody tr th:only-of-type {\n",
       "        vertical-align: middle;\n",
       "    }\n",
       "\n",
       "    .dataframe tbody tr th {\n",
       "        vertical-align: top;\n",
       "    }\n",
       "\n",
       "    .dataframe thead th {\n",
       "        text-align: right;\n",
       "    }\n",
       "</style>\n",
       "<table border=\"1\" class=\"dataframe\">\n",
       "  <thead>\n",
       "    <tr style=\"text-align: right;\">\n",
       "      <th></th>\n",
       "      <th>Title</th>\n",
       "      <th>Average_Rating</th>\n",
       "      <th>Number_of_ratings</th>\n",
       "    </tr>\n",
       "  </thead>\n",
       "  <tbody>\n",
       "    <tr>\n",
       "      <th>596</th>\n",
       "      <td>The Little Prince</td>\n",
       "      <td>5.307692</td>\n",
       "      <td>52</td>\n",
       "    </tr>\n",
       "    <tr>\n",
       "      <th>241</th>\n",
       "      <td>Harry Potter and the Sorcerer's Stone (Book 1)</td>\n",
       "      <td>4.723684</td>\n",
       "      <td>76</td>\n",
       "    </tr>\n",
       "    <tr>\n",
       "      <th>4</th>\n",
       "      <td>84 Charing Cross Road</td>\n",
       "      <td>4.568627</td>\n",
       "      <td>51</td>\n",
       "    </tr>\n",
       "    <tr>\n",
       "      <th>240</th>\n",
       "      <td>Harry Potter and the Prisoner of Azkaban (Book 3)</td>\n",
       "      <td>4.451128</td>\n",
       "      <td>133</td>\n",
       "    </tr>\n",
       "    <tr>\n",
       "      <th>238</th>\n",
       "      <td>Harry Potter and the Goblet of Fire (Book 4)</td>\n",
       "      <td>4.444444</td>\n",
       "      <td>117</td>\n",
       "    </tr>\n",
       "    <tr>\n",
       "      <th>239</th>\n",
       "      <td>Harry Potter and the Order of the Phoenix (Boo...</td>\n",
       "      <td>4.180952</td>\n",
       "      <td>105</td>\n",
       "    </tr>\n",
       "    <tr>\n",
       "      <th>103</th>\n",
       "      <td>Carrie</td>\n",
       "      <td>3.962264</td>\n",
       "      <td>53</td>\n",
       "    </tr>\n",
       "    <tr>\n",
       "      <th>30</th>\n",
       "      <td>A Wrinkle in Time</td>\n",
       "      <td>3.890411</td>\n",
       "      <td>73</td>\n",
       "    </tr>\n",
       "    <tr>\n",
       "      <th>237</th>\n",
       "      <td>Harry Potter and the Chamber of Secrets (Book 2)</td>\n",
       "      <td>3.786127</td>\n",
       "      <td>173</td>\n",
       "    </tr>\n",
       "    <tr>\n",
       "      <th>642</th>\n",
       "      <td>The Secret Garden</td>\n",
       "      <td>3.784615</td>\n",
       "      <td>65</td>\n",
       "    </tr>\n",
       "  </tbody>\n",
       "</table>\n",
       "</div>"
      ],
      "text/plain": [
       "                                                 Title  Average_Rating  \\\n",
       "596                                  The Little Prince        5.307692   \n",
       "241     Harry Potter and the Sorcerer's Stone (Book 1)        4.723684   \n",
       "4                                84 Charing Cross Road        4.568627   \n",
       "240  Harry Potter and the Prisoner of Azkaban (Book 3)        4.451128   \n",
       "238       Harry Potter and the Goblet of Fire (Book 4)        4.444444   \n",
       "239  Harry Potter and the Order of the Phoenix (Boo...        4.180952   \n",
       "103                                             Carrie        3.962264   \n",
       "30                                   A Wrinkle in Time        3.890411   \n",
       "237   Harry Potter and the Chamber of Secrets (Book 2)        3.786127   \n",
       "642                                  The Secret Garden        3.784615   \n",
       "\n",
       "     Number_of_ratings  \n",
       "596                 52  \n",
       "241                 76  \n",
       "4                   51  \n",
       "240                133  \n",
       "238                117  \n",
       "239                105  \n",
       "103                 53  \n",
       "30                  73  \n",
       "237                173  \n",
       "642                 65  "
      ]
     },
     "execution_count": 49,
     "metadata": {},
     "output_type": "execute_result"
    }
   ],
   "source": [
    "print(\"Your Top 10 Recommendations : \\n\")\n",
    "recommended_top_10.head(10)"
   ]
  },
  {
   "cell_type": "code",
   "execution_count": 50,
   "metadata": {
    "id": "aQ5tep9Qs0UZ"
   },
   "outputs": [],
   "source": [
    "def collaborative_filtering(User_id, Final_Rating, top_n=5):\n",
    "    # Create user-item matrix\n",
    "    user_item_matrix = Final_Rating.pivot(index=\"User_ID\", columns=\"ISBN\", values=\"Rating\").fillna(0)\n",
    "    sparse_matrix = csr_matrix(user_item_matrix.values)\n",
    "\n",
    "    # Fit the KNN model\n",
    "    model_knn = NearestNeighbors(metric=\"cosine\", algorithm=\"brute\")\n",
    "    model_knn.fit(sparse_matrix)\n",
    "\n",
    "    # Find the nearest neighbors\n",
    "    user_vector = user_item_matrix.loc[User_id].values.reshape(1, -1)\n",
    "    distances, indices = model_knn.kneighbors(user_vector, n_neighbors=top_n + 1)\n",
    "\n",
    "    # Generate recommendations\n",
    "    recommended_book_ids = user_item_matrix.iloc[indices.flatten()[1:]].mean(axis=0).nlargest(top_n).index\n",
    "    recommended_books = Final_Rating[Final_Rating[\"ISBN\"].isin(recommended_book_ids)]\n",
    "    \n",
    "    # Format results using tabulate\n",
    "    print(\"Collaborative Filtering Recommendations:\\n\")\n",
    "    print(tabulate(recommended_books[[\"Title\", \"Author\"]].drop_duplicates(), headers='keys', tablefmt='fancy_grid'))\n",
    "    \n",
    "    return recommended_books[[\"Title\", \"Author\"]].drop_duplicates()"
   ]
  },
  {
   "cell_type": "code",
   "execution_count": 51,
   "metadata": {
    "colab": {
     "base_uri": "https://localhost:8080/"
    },
    "id": "Lm5bJfvTtuxb",
    "outputId": "56835da8-fd20-43a8-86bb-dd3c5a5db55d"
   },
   "outputs": [
    {
     "name": "stdout",
     "output_type": "stream",
     "text": [
      "Collaborative Filtering Recommendations:\n",
      "\n",
      "╒═══════╤══════════════════════════════════════╤════════════════════════╕\n",
      "│       │ Title                                │ Author                 │\n",
      "╞═══════╪══════════════════════════════════════╪════════════════════════╡\n",
      "│    32 │ Girl in Hyacinth Blue                │ Susan Vreeland         │\n",
      "├───────┼──────────────────────────────────────┼────────────────────────┤\n",
      "│    65 │ Me Talk Pretty One Day               │ David Sedaris          │\n",
      "├───────┼──────────────────────────────────────┼────────────────────────┤\n",
      "│   126 │ The Da Vinci Code                    │ Dan Brown              │\n",
      "├───────┼──────────────────────────────────────┼────────────────────────┤\n",
      "│   143 │ Lord of the Flies                    │ William Gerald Golding │\n",
      "├───────┼──────────────────────────────────────┼────────────────────────┤\n",
      "│   340 │ Pay It Forward                       │ Catherine Ryan Hyde    │\n",
      "├───────┼──────────────────────────────────────┼────────────────────────┤\n",
      "│  3137 │ Beloved (Plume Contemporary Fiction) │ Toni Morrison          │\n",
      "├───────┼──────────────────────────────────────┼────────────────────────┤\n",
      "│  5133 │ 1984                                 │ George Orwell          │\n",
      "├───────┼──────────────────────────────────────┼────────────────────────┤\n",
      "│ 16401 │ Colony                               │ Anne Rivers Siddons    │\n",
      "├───────┼──────────────────────────────────────┼────────────────────────┤\n",
      "│ 18400 │ Rebecca                              │ Daphne du Maurier      │\n",
      "╘═══════╧══════════════════════════════════════╧════════════════════════╛\n"
     ]
    }
   ],
   "source": [
    "collab_rec = collaborative_filtering(277427, Final_Rating, top_n=10)\n",
    "# print(tabulate(\"Collaborative Filtering Recommendations:\\n\", collab_rec.drop_duplicates()))"
   ]
  },
  {
   "cell_type": "code",
   "execution_count": 52,
   "metadata": {
    "id": "p7bwiS0dwa4l"
   },
   "outputs": [],
   "source": [
    "# Content-Based Filtering\n",
    "def content_based_recommendation(book_title, Final_Rating, top_n=5):\n",
    "    tfidf = TfidfVectorizer(stop_words=\"english\")\n",
    "    Final_Rating[\"Title\"] = Final_Rating[\"Title\"].fillna(\"\")\n",
    "    content_based_final_df = Final_Rating.drop_duplicates(subset=\"Title\")\n",
    "    tfidf_matrix = tfidf.fit_transform(content_based_final_df[\"Title\"])\n",
    "\n",
    "    cosine_sim = cosine_similarity(tfidf_matrix, tfidf_matrix)\n",
    "    indices = pd.Series(content_based_final_df.index, index=content_based_final_df[\"Title\"]).drop_duplicates()\n",
    "\n",
    "    if book_title not in indices:\n",
    "        raise ValueError(f\"'{book_title}' not found in the dataset.\")\n",
    "\n",
    "    idx = indices[book_title]\n",
    "    sim_scores = list(enumerate(cosine_sim[idx]))\n",
    "    sim_scores = sorted(sim_scores, key=lambda x: x[1], reverse=True)\n",
    "    sim_scores = sim_scores[1:top_n + 1]\n",
    "    book_indices = [i[0] for i in sim_scores]\n",
    "\n",
    "    recommendations = content_based_final_df.iloc[book_indices][[\"Title\", \"Author\"]]\n",
    "    \n",
    "    # Display using tabulate for a cleaner console output\n",
    "    print(tabulate(recommendations, headers='keys', tablefmt='fancy_grid'))\n",
    "    return recommendations"
   ]
  },
  {
   "cell_type": "code",
   "execution_count": 53,
   "metadata": {},
   "outputs": [
    {
     "name": "stdout",
     "output_type": "stream",
     "text": [
      "╒═══════╤══════════════════════════════════════════════════════════════════════════╤═══════════════════╕\n",
      "│       │ Title                                                                    │ Author            │\n",
      "╞═══════╪══════════════════════════════════════════════════════════════════════════╪═══════════════════╡\n",
      "│  5168 │ The Two Towers (The Lord of the Rings, Part 2)                           │ J. R. R. Tolkien  │\n",
      "├───────┼──────────────────────────────────────────────────────────────────────────┼───────────────────┤\n",
      "│ 19069 │ The Return of the King (The Lord of the Rings, Part 3)                   │ J. R. R. Tolkien  │\n",
      "├───────┼──────────────────────────────────────────────────────────────────────────┼───────────────────┤\n",
      "│  5167 │ The Fellowship of the Ring (The Lord of the Rings, Part 1)               │ J. R. R. Tolkien  │\n",
      "├───────┼──────────────────────────────────────────────────────────────────────────┼───────────────────┤\n",
      "│    75 │ The Hobbit : The Enchanting Prelude to The Lord of the Rings             │ J.R.R. TOLKIEN    │\n",
      "├───────┼──────────────────────────────────────────────────────────────────────────┼───────────────────┤\n",
      "│     0 │ Politically Correct Bedtime Stories: Modern Tales for Our Life and Times │ James Finn Garner │\n",
      "╘═══════╧══════════════════════════════════════════════════════════════════════════╧═══════════════════╛\n"
     ]
    }
   ],
   "source": [
    "content_rec = content_based_recommendation(\"Girl in Hyacinth Blue\", Final_Rating, top_n=5)\n",
    "# print(\"Content-Based Recommendations:\\n\", content_rec.drop_duplicates())"
   ]
  }
 ],
 "metadata": {
  "colab": {
   "provenance": []
  },
  "kernelspec": {
   "display_name": "Python 3 (ipykernel)",
   "language": "python",
   "name": "python3"
  },
  "language_info": {
   "codemirror_mode": {
    "name": "ipython",
    "version": 3
   },
   "file_extension": ".py",
   "mimetype": "text/x-python",
   "name": "python",
   "nbconvert_exporter": "python",
   "pygments_lexer": "ipython3",
   "version": "3.11.5"
  }
 },
 "nbformat": 4,
 "nbformat_minor": 4
}
